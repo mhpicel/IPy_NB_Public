{
 "cells": [
  {
   "cell_type": "code",
   "execution_count": 49,
   "metadata": {
    "collapsed": false
   },
   "outputs": [
    {
     "ename": "ModuleNotFoundError",
     "evalue": "No module named 'marcus_py_tools'",
     "output_type": "error",
     "traceback": [
      "\u001b[0;31m---------------------------------------------------------------------------\u001b[0m",
      "\u001b[0;31mModuleNotFoundError\u001b[0m                       Traceback (most recent call last)",
      "\u001b[0;32m<ipython-input-49-c09745a0f1ff>\u001b[0m in \u001b[0;36m<module>\u001b[0;34m()\u001b[0m\n\u001b[1;32m     18\u001b[0m \u001b[0;31m#import trackpy as tp\u001b[0m\u001b[0;34m\u001b[0m\u001b[0;34m\u001b[0m\u001b[0m\n\u001b[1;32m     19\u001b[0m \u001b[0;32mfrom\u001b[0m \u001b[0mPIL\u001b[0m \u001b[0;32mimport\u001b[0m \u001b[0mImage\u001b[0m\u001b[0;34m\u001b[0m\u001b[0m\n\u001b[0;32m---> 20\u001b[0;31m \u001b[0;32mfrom\u001b[0m \u001b[0mmarcus_py_tools\u001b[0m \u001b[0;32mimport\u001b[0m \u001b[0mmake_edge_vec\u001b[0m\u001b[0;34m,\u001b[0m \u001b[0mxy_from_latlon\u001b[0m\u001b[0;34m,\u001b[0m \u001b[0mlatlon_from_xy\u001b[0m\u001b[0;34m,\u001b[0m \u001b[0mwalklevel\u001b[0m\u001b[0;34m,\u001b[0m \u001b[0mfind_stuff_at_level\u001b[0m\u001b[0;34m,\u001b[0m\u001b[0mhaversine\u001b[0m\u001b[0;34m\u001b[0m\u001b[0m\n\u001b[0m\u001b[1;32m     21\u001b[0m \u001b[0mget_ipython\u001b[0m\u001b[0;34m(\u001b[0m\u001b[0;34m)\u001b[0m\u001b[0;34m.\u001b[0m\u001b[0mmagic\u001b[0m\u001b[0;34m(\u001b[0m\u001b[0;34m'matplotlib inline'\u001b[0m\u001b[0;34m)\u001b[0m\u001b[0;34m\u001b[0m\u001b[0m\n",
      "\u001b[0;31mModuleNotFoundError\u001b[0m: No module named 'marcus_py_tools'"
     ]
    }
   ],
   "source": [
    "import numpy as np\n",
    "import matplotlib.pyplot as plt\n",
    "import matplotlib\n",
    "from matplotlib import dates\n",
    "from netCDF4 import num2date,date2num,Dataset\n",
    "import matplotlib.cm as cm\n",
    "import time,os,subprocess\n",
    "import copy\n",
    "from mpl_toolkits.basemap import Basemap\n",
    "import matplotlib.gridspec as gridspec\n",
    "from math import radians, sin, cos, sqrt, asin\n",
    "import scipy.interpolate as interpolate\n",
    "#import pyart.graph.cm as pcm\n",
    "import pickle\n",
    "import datetime\n",
    "import pims\n",
    "import pandas as pd\n",
    "#import trackpy as tp\n",
    "from PIL import Image\n",
    "from marcus_py_tools import make_edge_vec, xy_from_latlon, latlon_from_xy, walklevel, find_stuff_at_level,haversine\n",
    "%matplotlib inline"
   ]
  },
  {
   "cell_type": "code",
   "execution_count": 52,
   "metadata": {
    "collapsed": true
   },
   "outputs": [],
   "source": [
    "khgx_lat = 29.468\n",
    "khgx_lon = -95.075"
   ]
  },
  {
   "cell_type": "code",
   "execution_count": 13,
   "metadata": {
    "collapsed": false
   },
   "outputs": [
    {
     "name": "stdout",
     "output_type": "stream",
     "text": [
      "     scan  uid   area   grid_x   grid_y isolated      lat      lon        max  \\\n",
      "0       0    0  10.25  367.976  157.073     True  28.3791 -95.2423  41.128731   \n",
      "1       0    1  14.25  292.754  189.789     True  28.5265 -95.6263  45.238003   \n",
      "2       0    2  20.75  610.855  521.470     True  30.0115 -93.9830  52.002148   \n",
      "3       0    3  40.50  697.926  606.025     True  30.3892 -93.5253  50.663036   \n",
      "4       1    0  16.00  368.312  158.766     True  28.3881 -95.2423  39.801807   \n",
      "5       1    1  11.25  291.267  192.800     True  28.5399 -95.6366  43.452705   \n",
      "6       1    2  14.25  611.018  525.737     True  30.0340 -93.9828  48.598919   \n",
      "7       1    3  35.00  697.336  608.529     True  30.4027 -93.5303  47.909958   \n",
      "8       2    0  20.25  367.753  161.914     True  28.4016 -95.2423  44.664429   \n",
      "9       2    2  13.25  610.962  527.604     True  30.0430 -93.9827  47.161983   \n",
      "10      2    3  28.25  696.814  610.726     True  30.4117 -93.5302  46.038994   \n",
      "11      3    0   9.25  365.730  168.919    False  28.4331 -95.2526  42.542973   \n",
      "12      3    4   8.50  351.882  177.147    False  28.4689 -95.3243  42.931553   \n",
      "13      3    2  16.00  612.250  536.578     True  30.0834 -93.9771  47.943634   \n",
      "14      3    3  18.00  689.819  608.597     True  30.4031 -93.5668  47.769634   \n",
      "15      4    0  13.50  362.037  174.685     True  28.4600 -95.2731  39.305695   \n",
      "16      4    2  14.25  611.614  539.316     True  30.0924 -93.9770  47.266705   \n",
      "17      5    5   9.75  260.974  118.513     True  28.2065 -95.7879  41.459343   \n",
      "18      5    0  10.00  355.750  185.750     True  28.5094 -95.3039  39.975010   \n",
      "19      5    6  13.50  693.278  610.278     True  30.4075 -93.5511  43.984993   \n",
      "20      6    0  31.50  337.111  191.484     True  28.5317 -95.4012  53.805229   \n",
      "21      6    7  12.25  484.918  207.408     True  28.6033 -94.6434  45.692413   \n",
      "22      6    8   9.25  285.054  239.622     True  28.7511 -95.6685  48.509975   \n",
      "23      7    0  34.00  335.971  194.324     True  28.5452 -95.4063  53.561279   \n",
      "24      7    7  14.25  483.351  209.667     True  28.6169 -94.6536  50.500000   \n",
      "25      7    8  10.25  283.707  242.927     True  28.7646 -95.6738  48.515980   \n",
      "26      8    0  70.00  331.146  203.375     True  28.5856 -95.4321  52.418037   \n",
      "27      8    7  30.00  478.067  219.817     True  28.6619 -94.6790  50.000000   \n",
      "28      8    9  11.50  755.391  580.391     True  30.2685 -93.2304  40.460167   \n",
      "29      8   10  10.75  581.140  631.558     True  30.5118 -94.1341  42.657909   \n",
      "..    ...  ...    ...      ...      ...      ...      ...      ...        ...   \n",
      "679    52  146  23.50  704.830  290.011    False  28.9681 -93.5111  47.070515   \n",
      "680    52  162  26.00  726.942  295.000    False  28.9892 -93.3977  46.000000   \n",
      "681    52  176  17.25  677.754  300.072    False  29.0146 -93.6493  45.166336   \n",
      "682    52  168  52.00  247.793  648.822     True  30.5892 -95.8727  52.377697   \n",
      "683    53  177  15.75  665.889  192.730     True  28.5342 -93.7173  45.668434   \n",
      "684    53  146  31.75  697.362  293.685    False  28.9865 -93.5520  46.481384   \n",
      "685    53  162  23.00  722.652  295.674    False  28.9939 -93.4182  50.500000   \n",
      "686    53  168  55.00  245.723  656.191     True  30.6206 -95.8834  49.995880   \n",
      "687    54  177  14.00  665.464  193.625     True  28.5387 -93.7224  45.250191   \n",
      "688    54  146  31.00  695.992  294.516    False  28.9911 -93.5570  45.373711   \n",
      "689    54  162  21.25  720.494  297.235    False  28.9986 -93.4335  48.051525   \n",
      "690    54  168  53.25  246.056  658.986     True  30.6341 -95.8835  46.651245   \n",
      "691    54  178  18.50  639.500  791.000     True  31.2241 -93.8169  45.500587   \n",
      "692    55  177  17.50  656.071  207.314     True  28.5976 -93.7677  47.585102   \n",
      "693    55  146  27.25  694.587  295.798    False  28.9957 -93.5621  44.902721   \n",
      "694    55  162  25.00  719.200  298.620    False  29.0077 -93.4385  53.748230   \n",
      "695    55  168  63.00  243.683  665.698     True  30.6655 -95.8942  46.351669   \n",
      "696    56  177  23.75  655.232  207.937     True  28.6022 -93.7727  50.737598   \n",
      "697    56  146  19.50  694.192  296.782    False  29.0002 -93.5672  40.871803   \n",
      "698    56  162  29.50  718.025  301.017    False  29.0167 -93.4435  52.878151   \n",
      "699    56  179   8.00  251.375  659.344    False  30.6343 -95.8574  36.995255   \n",
      "700    56  168  45.75  239.563  675.197    False  30.7059 -95.9155  48.394714   \n",
      "701    57  177  29.50  651.263  212.246     True  28.6204 -93.7930  49.786469   \n",
      "702    58  180   8.25  646.364   97.697     True  28.1081 -93.8248  46.165947   \n",
      "703    58  177  28.00  650.357  213.152     True  28.6249 -93.7981  47.530159   \n",
      "704    59  181  14.25  644.175   99.123     True  28.1126 -93.8349  50.803955   \n",
      "705    59  182   8.75  744.971  130.200     True  28.2462 -93.3178  37.806770   \n",
      "706    59  177  24.00  646.354  217.688     True  28.6476 -93.8183  46.336269   \n",
      "707    60  181  22.50  643.200   99.589     True  28.1172 -93.8399  51.335590   \n",
      "708    60  177  15.00  645.317  220.950     True  28.6611 -93.8232  45.014339   \n",
      "\n",
      "     max_alt                 time      vol  \n",
      "0        3.5  2015-07-09 18:23:28   20.375  \n",
      "1        5.5  2015-07-09 18:23:28   41.500  \n",
      "2        7.0  2015-07-09 18:23:28   56.375  \n",
      "3        8.5  2015-07-09 18:23:28  182.500  \n",
      "4        5.0  2015-07-09 18:27:47   48.000  \n",
      "5        4.0  2015-07-09 18:27:47   28.500  \n",
      "6        6.0  2015-07-09 18:27:47   48.125  \n",
      "7        8.5  2015-07-09 18:27:47  148.000  \n",
      "8        4.5  2015-07-09 18:32:07   51.875  \n",
      "9        5.0  2015-07-09 18:32:07   42.500  \n",
      "10       6.5  2015-07-09 18:32:07   96.750  \n",
      "11       5.5  2015-07-09 18:45:03   30.000  \n",
      "12       5.0  2015-07-09 18:45:03   19.500  \n",
      "13       5.5  2015-07-09 18:45:03   54.000  \n",
      "14       6.5  2015-07-09 18:45:03   58.250  \n",
      "15       3.5  2015-07-09 18:49:23   27.250  \n",
      "16       5.0  2015-07-09 18:49:23   42.250  \n",
      "17       4.0  2015-07-09 18:57:59   21.875  \n",
      "18       4.5  2015-07-09 18:57:59   26.875  \n",
      "19       5.5  2015-07-09 18:57:59   34.875  \n",
      "20       9.0  2015-07-09 19:10:54  145.750  \n",
      "21       5.5  2015-07-09 19:10:54   38.250  \n",
      "22       4.5  2015-07-09 19:10:54   26.000  \n",
      "23      11.0  2015-07-09 19:15:13  170.125  \n",
      "24       7.0  2015-07-09 19:15:13   52.875  \n",
      "25       5.0  2015-07-09 19:15:13   28.375  \n",
      "26      11.0  2015-07-09 19:28:19  384.875  \n",
      "27      10.5  2015-07-09 19:28:19  123.250  \n",
      "28       5.5  2015-07-09 19:28:19   24.250  \n",
      "29       7.5  2015-07-09 19:28:19   35.625  \n",
      "..       ...                  ...      ...  \n",
      "679      6.5  2015-07-10 01:00:58   65.125  \n",
      "680      5.0  2015-07-10 01:00:58   62.750  \n",
      "681      6.0  2015-07-10 01:00:58   52.375  \n",
      "682     10.5  2015-07-10 01:00:58  249.625  \n",
      "683      4.5  2015-07-10 01:08:57   34.250  \n",
      "684      7.0  2015-07-10 01:08:57  100.125  \n",
      "685      5.0  2015-07-10 01:08:57   57.375  \n",
      "686      7.0  2015-07-10 01:08:57  230.250  \n",
      "687      4.5  2015-07-10 01:12:55   30.250  \n",
      "688      6.5  2015-07-10 01:12:55   97.500  \n",
      "689      5.5  2015-07-10 01:12:55   58.000  \n",
      "690      8.0  2015-07-10 01:12:55  179.375  \n",
      "691     12.5  2015-07-10 01:12:55   58.750  \n",
      "692      7.0  2015-07-10 01:16:54   40.000  \n",
      "693      5.5  2015-07-10 01:16:54   65.625  \n",
      "694      7.0  2015-07-10 01:16:54   81.125  \n",
      "695      9.5  2015-07-10 01:16:54  197.625  \n",
      "696      7.0  2015-07-10 01:20:53   68.000  \n",
      "697      4.5  2015-07-10 01:20:53   45.750  \n",
      "698      7.0  2015-07-10 01:20:53   94.875  \n",
      "699      4.0  2015-07-10 01:20:53   13.750  \n",
      "700      9.0  2015-07-10 01:20:53  178.875  \n",
      "701      6.5  2015-07-10 01:36:51   98.250  \n",
      "702      5.5  2015-07-10 01:40:50   14.500  \n",
      "703      7.0  2015-07-10 01:40:50   92.125  \n",
      "704      5.5  2015-07-10 01:48:47   33.125  \n",
      "705      5.5  2015-07-10 01:48:47   11.250  \n",
      "706      4.5  2015-07-10 01:48:47   55.250  \n",
      "707      8.5  2015-07-10 01:52:47   78.250  \n",
      "708      6.0  2015-07-10 01:52:47   44.500  \n",
      "\n",
      "[709 rows x 12 columns]\n"
     ]
    }
   ],
   "source": [
    "filenm = '/home/mvanlier/Research/Houston_track/refl_long_storm.csv'\n",
    "df = pd.read_csv(filenm)\n",
    "print(df)"
   ]
  },
  {
   "cell_type": "code",
   "execution_count": 70,
   "metadata": {
    "collapsed": false
   },
   "outputs": [
    {
     "name": "stdout",
     "output_type": "stream",
     "text": [
      "     scan  uid    area   grid_x   grid_y isolated      lat      lon  \\\n",
      "0       0    0   10.25  367.976  157.073     True  28.3791 -95.2423   \n",
      "4       1    0   16.00  368.312  158.766     True  28.3881 -95.2423   \n",
      "8       2    0   20.25  367.753  161.914     True  28.4016 -95.2423   \n",
      "11      3    0    9.25  365.730  168.919    False  28.4331 -95.2526   \n",
      "15      4    0   13.50  362.037  174.685     True  28.4600 -95.2731   \n",
      "18      5    0   10.00  355.750  185.750     True  28.5094 -95.3039   \n",
      "20      6    0   31.50  337.111  191.484     True  28.5317 -95.4012   \n",
      "23      7    0   34.00  335.971  194.324     True  28.5452 -95.4063   \n",
      "26      8    0   70.00  331.146  203.375     True  28.5856 -95.4321   \n",
      "31      9    0   98.50  328.246  209.652     True  28.6170 -95.4475   \n",
      "37     10    0  107.00  325.678  215.488     True  28.6395 -95.4579   \n",
      "49     11    0  105.25  323.976  218.309     True  28.6530 -95.4682   \n",
      "60     12    0  115.75  321.996  225.778    False  28.6889 -95.4785   \n",
      "74     13    0  116.00  319.442  229.504    False  28.7068 -95.4940   \n",
      "89     14    0  104.00  318.291  234.373    False  28.7248 -95.4992   \n",
      "103    15    0  107.00  316.035  238.495    False  28.7428 -95.5095   \n",
      "120    16    0   62.00  308.339  242.661    False  28.7651 -95.5506   \n",
      "138    17    0   42.50  305.694  247.135    False  28.7831 -95.5610   \n",
      "159    18    0   18.25  300.041  254.301    False  28.8144 -95.5919   \n",
      "176    19    0   13.75  298.818  256.982    False  28.8279 -95.5971   \n",
      "\n",
      "           max  max_alt                 time      vol  \n",
      "0    41.128731      3.5  2015-07-09 18:23:28   20.375  \n",
      "4    39.801807      5.0  2015-07-09 18:27:47   48.000  \n",
      "8    44.664429      4.5  2015-07-09 18:32:07   51.875  \n",
      "11   42.542973      5.5  2015-07-09 18:45:03   30.000  \n",
      "15   39.305695      3.5  2015-07-09 18:49:23   27.250  \n",
      "18   39.975010      4.5  2015-07-09 18:57:59   26.875  \n",
      "20   53.805229      9.0  2015-07-09 19:10:54  145.750  \n",
      "23   53.561279     11.0  2015-07-09 19:15:13  170.125  \n",
      "26   52.418037     11.0  2015-07-09 19:28:19  384.875  \n",
      "31   56.499367     11.5  2015-07-09 19:36:57  497.000  \n",
      "37   53.061317     10.5  2015-07-09 19:45:34  545.250  \n",
      "49   52.403488     10.0  2015-07-09 19:49:46  533.375  \n",
      "60   53.835907     12.5  2015-07-09 19:58:34  510.125  \n",
      "74   53.500004     10.0  2015-07-09 20:03:03  445.375  \n",
      "89   52.668392      8.0  2015-07-09 20:07:22  386.750  \n",
      "103  50.294064      7.5  2015-07-09 20:11:47  372.750  \n",
      "120  49.309135      9.0  2015-07-09 20:16:00  215.750  \n",
      "138  48.330914      6.0  2015-07-09 20:20:18  129.750  \n",
      "159  47.943710      6.0  2015-07-09 20:24:42   64.000  \n",
      "176  43.089638      4.5  2015-07-09 20:29:07   35.125  \n"
     ]
    }
   ],
   "source": [
    "print((df[df['uid']==0]))"
   ]
  },
  {
   "cell_type": "code",
   "execution_count": 34,
   "metadata": {
    "collapsed": false
   },
   "outputs": [
    {
     "data": {
      "text/plain": [
       "<matplotlib.collections.PathCollection at 0x7f70bdf545c0>"
      ]
     },
     "execution_count": 34,
     "metadata": {},
     "output_type": "execute_result"
    },
    {
     "data": {
      "image/png": "[encoded data removed]",
      "text/plain": [
       "<matplotlib.figure.Figure at 0x7f7077bd39b0>"
      ]
     },
     "metadata": {},
     "output_type": "display_data"
    }
   ],
   "source": [
    "plt.scatter(df[df['uid']==0]['grid_x'],df[df['uid']==0]['grid_y'])"
   ]
  },
  {
   "cell_type": "code",
   "execution_count": 48,
   "metadata": {
    "collapsed": false
   },
   "outputs": [
    {
     "name": "stdout",
     "output_type": "stream",
     "text": [
      "18:23:28\n",
      "KHGX_grid_20150709.182328\n",
      "KHGX_grid_20151124.193709.nc\n",
      "/lcrc/group/earthscience/radar/houston/data/20150709/KHGX_grid_20150709.182328.nc\n",
      "20150709\n"
     ]
    }
   ],
   "source": [
    "print(df[df['uid']==0]['time'][0][-8:])\n",
    "stub = df[df['uid']==0]['time'][0]\n",
    "print('KHGX_grid_'+stub[-19:-15]+stub[-14:-12]+stub[-11:-9]+'.'+stub[-8:-6]+stub[-5:-3]+stub[-2:])\n",
    "print('KHGX_grid_20151124.193709.nc')\n",
    "datapath='/lcrc/group/earthscience/radar/houston/data/'\n",
    "gridpre='KHGX_grid_'\n",
    "gridsuf='.nc'\n",
    "stub=df[df['uid']==0]['time'][0]\n",
    "timstr = stub[-19:-15]+stub[-14:-12]+stub[-11:-9]+'.'+stub[-8:-6]+stub[-5:-3]+stub[-2:]\n",
    "print(datapath+stub[-19:-15]+stub[-14:-12]+stub[-11:-9]+'/'+gridpre+timstr+gridsuf)\n",
    "print(timstr[0:8])"
   ]
  },
  {
   "cell_type": "code",
   "execution_count": 61,
   "metadata": {
    "collapsed": false
   },
   "outputs": [
    {
     "name": "stdout",
     "output_type": "stream",
     "text": [
      "(801, 801)\n",
      "29.4719009399 -95.0787353516\n"
     ]
    }
   ],
   "source": [
    "nc = Dataset('/home/mvanlier/Research/Houston_track/KHGX_grid_20160811.191353.nc','r')\n",
    "xd = nc.variables['x'][:]\n",
    "yd = nc.variables['y'][:]\n",
    "zd = nc.variables['z'][:]\n",
    "radlat = nc.variables['radar_latitude'][0]\n",
    "radlon = nc.variables['radar_longitude'][0]\n",
    "nc.close()\n",
    "latgrid,longrid = latlon_from_xy(xd,yd,khgx_lat,khgx_lon)\n",
    "print(latgrid.shape)\n",
    "print(radlat,radlon)\n",
    "#print(xd)"
   ]
  },
  {
   "cell_type": "code",
   "execution_count": 50,
   "metadata": {
    "collapsed": true
   },
   "outputs": [],
   "source": [
    "#:::::::::::::::::::::::::::::::::::::::::::::::::::::::::::::::::::::::::::::::::::\n",
    "def latlon_from_xy(xd,yd,lat_c,lon_c):\n",
    "    import pyproj\n",
    "    #..Make a grids latgrid(x,y) and longrid(x,y) from x and y displacements\n",
    "    g = pyproj.Geod(ellps='clrk66')\n",
    "    #..Uses pyproj geod\n",
    "    lat = np.empty([len(yd),len(xd)])\n",
    "    lon = np.empty([len(yd),len(xd)])\n",
    "    #..cacalate azimuth between radar and point\n",
    "    for j in range(len(yd)):\n",
    "        for i in range(len(xd)):\n",
    "            faz = np.arctan2(xd[i],yd[j])\n",
    "            dist = np.hypot(xd[i],yd[j])\n",
    "            lon[j,i],lat[j,i],baz = g.fwd(lon_c,lat_c,180.*faz/np.pi,dist)\n",
    "    return lat,lon"
   ]
  },
  {
   "cell_type": "code",
   "execution_count": 51,
   "metadata": {
    "collapsed": true
   },
   "outputs": [],
   "source": [
    "def haversine(lat1, lon1, lat2, lon2):\n",
    "    R = 6372800. # Earth radius in kilometers\n",
    "        \n",
    "    dLat = np.radians(lat2 - lat1)\n",
    "    dLon = np.radians(lon2 - lon1)\n",
    "    lat1 = np.radians(lat1)\n",
    "    lat2 = np.radians(lat2)\n",
    "                            \n",
    "    a = np.sin(dLat/2)**2 + np.cos(lat1)*np.cos(lat2)*np.sin(dLon/2)**2\n",
    "    c = 2*np.arcsin(np.sqrt(a))\n",
    "                                        \n",
    "    return R * c"
   ]
  },
  {
   "cell_type": "code",
   "execution_count": 76,
   "metadata": {
    "collapsed": false
   },
   "outputs": [],
   "source": [
    "def track_statistics(df, tr, dist_to_khgx_thresh=120000., mask_rhothresh=0.8, mask_dbzthresh=15., \n",
    "                     distradius=5000., kdpthr=0.5, zdrthr=0.75, pctile=98.,verbose=True,\n",
    "                     datapath='/lcrc/group/earthscience/radar/houston/data/',gridpre='KHGX_grid_',gridsuf='.nc',\n",
    "                     save_timeseries=False, return_timeseries=False, return_scalar=True, \n",
    "                     zmelt_idx = 9, an_nlayers = 8):\n",
    "    #..This code is to assemble statistics of:\n",
    "    #..     - ZDR PE \n",
    "    #..     - KDP PE\n",
    "    #..     - ZHH PE\n",
    "    #..     - ??th percentile KDP\n",
    "    #..     - ??th percentile ZDR\n",
    "    #..     - ??th percentile ZHH\n",
    "    ntr = len(df[df['uid']==tr])\n",
    "    if verbose:\n",
    "        print('length of track no. ',tr,' = ',ntr)\n",
    "    #..Get pathlist to get grid\n",
    "    pathlist = []\n",
    "    for i in range(ntr):\n",
    "        print(df[df['uid']==tr]['time'][i][:])\n",
    "        stub=df[df['uid']==tr]['time'][i]\n",
    "        timstr = stub[-19:-15]+stub[-14:-12]+stub[-11:-9]+'.'+stub[-8:-6]+stub[-5:-3]+stub[-2:]\n",
    "        pathlist.append(datapath+timstr[0:8]+'/'+gridpre+timstr+gridsuf)\n",
    "        \n",
    "    #..Load one file to get lat/lon etc\n",
    "    nc = Dataset(pathlist[0],'r')\n",
    "    xd = nc.variables['x'][:]\n",
    "    yd = nc.variables['y'][:]\n",
    "    zd = nc.variables['z'][:]\n",
    "    rad_lat = nc.variables['radar_latitude'][0]\n",
    "    rad_lon = nc.variables['radar_longitude'][0]\n",
    "    nc.close()\n",
    "    zgrid = np.zeros((len(zd),len(yd),len(xd)))\n",
    "    for j in range(len(zd)):\n",
    "        zgrid[j,:,:] = zd[j]\n",
    "    latgrid,longrid = latlon_from_xy(xd,yd,rad_lat,rad_lon)\n",
    "    d2radgrid = copy.deepcopy(latgrid)\n",
    "    d2radgrid = 0.\n",
    "    for i in range(latgrid.shape[0]):\n",
    "        d2radgrid[:,i] = np.sqrt(xd[i]**2+yd[:]**2)\n",
    "    #..For all steps in path, aggregate statistics and save\n",
    "    kdp_pe = []\n",
    "    zdr_pe = []\n",
    "    zhh_pe = []\n",
    "    kdp_pct = []\n",
    "    zdr_pct = []\n",
    "    zhh_pct = []\n",
    "    \n",
    "    for i in range(ntr):\n",
    "        tlat = df[df['uid']==tr]['lat'][i]\n",
    "        tlon = df[df['uid']==tr]['lon'][i]\n",
    "        dist_to_center = haversine(lat_grid,lon_grid,tlat,tlon)\n",
    "        #..\n",
    "        nc  = Dataset(pathlist[i],'r')\n",
    "        zhh = nc.variables['reflectivity'][0,:,:,:]\n",
    "        zdr = nc.variables['differential_reflectivity'][0,:,:,:]\n",
    "        kdp = nc.variables['specific_differential_phase'][0,:,:,:]\n",
    "        rho = nc.variables['cross_correlation_ratio'][0,:,:,:]\n",
    "        nc.close()\n",
    "        #..\n",
    "        kdp_proc = np.ma.masked_values(kdp,-9999.)\n",
    "        kdp_proc = np.ma.masked_where(np.logical_or(rho<mask_rhothresh,zhh<mask_dbzthresh),kdp_proc)\n",
    "        zdr_proc = np.ma.masked_values(zdr,-9999.)\n",
    "        zdr_proc = np.ma.masked_where(np.logical_or(rho<mask_rhothresh,zhh<mask_dbzthresh),zdr_proc)\n",
    "        zhh_proc = np.ma.masked_values(zhh,-9999.)\n",
    "        #..\n",
    "        logconi = dist_to_center<distradius\n",
    "        vol_ones = zdr_proc*0.+1\n",
    "        kdp_pct = np.r_[kdp_pct,np.percentile(kdp_proc[zmelt_idx:zmelt_idx+an_nlayers+1,logconi],pctile)]\n",
    "        zdr_pct = np.r_[zdr_pct,np.percentile(zdr_proc[zmelt_idx:zmelt_idx+an_nlayers+1,logconi],pctile)]\n",
    "        zhh_pct = np.r_[zhh_pct,np.percentile(zhh_proc[zmelt_idx:zmelt_idx+an_nlayers+1,logconi],pctile)]\n",
    "        #print kdp_99p\n",
    "        kdp_pei = kdp_proc*zgrid\n",
    "        zdr_pei = zdr_proc*zgrid\n",
    "        zhh_pei = zhh_proc*zgrid\n",
    "        if not(bool(vol_ones[zmelt_idx:zmelt_idx+an_nlayers+1,logconi].sum()>0.)):\n",
    "            print('isempty')\n",
    "            kdp_pet = 0.\n",
    "            zdr_pet = 0.\n",
    "            zhh_pet = 0.\n",
    "        else:\n",
    "            kdp_pet = kdp_pei[zmelt_idx:zmelt_idx+an_nlayers+1,\n",
    "                              logconi].sum()/vol_ones[zmelt_idx:zmelt_idx+an_nlayers+1,logconi].sum()\n",
    "            zdr_pet = zdr_pei[zmelt_idx:zmelt_idx+an_nlayers+1,\n",
    "                              logconi].sum()/vol_ones[zmelt_idx:zmelt_idx+an_nlayers+1,logconi].sum()\n",
    "            zhh_pet = zhh_pei[zmelt_idx:zmelt_idx+an_nlayers+1,\n",
    "                              logconi].sum()/vol_ones[zmelt_idx:zmelt_idx+an_nlayers+1,logconi].sum()\n",
    "        try:\n",
    "            kdp_pe = np.r_[kdp_pe,kdp_pet]\n",
    "        except ValueError:\n",
    "            kdp_pe = np.r_[kdp_pe,-99.]\n",
    "        try:\n",
    "            zdr_pe = np.r_[zdr_pe,zdr_pet]\n",
    "        except ValueError:\n",
    "            zdr_pe = np.r_[zdr_pe,-99.]\n",
    "        try:\n",
    "            zhh_pe = np.r_[zhh_pe,zhh_pet]\n",
    "        except ValueError:\n",
    "            zhh_pe = np.r_[zhh_pe,-99.]\n",
    "    #..\n",
    "    if save_timeseries:\n",
    "        saved_track_stats = {\"kdp_pe\":kdp_pe,\"zdr_pe\":zdr_pe,\"zhh_pe\":zhh_pe,\n",
    "                             \"kdp_pct\":kdp_pct,\"zdr_pct\":zdr_pct,\"zhh_pct\":zhh_pct}\n",
    "        pickle.dump( saved_track_stats, open(\"trackstats_\"+timstr[0:8]+'_tr'+str(tr).zfill(3),'rb'))\n",
    "    #..\n",
    "    if return_timeseries:\n",
    "        return kdp_pe, zhh_pe, kdp_pct, zhh_pct\n",
    "    elif return_scalar:\n",
    "        return kdp_pet.max(),zdr_pet.max(),zhh_pet.max(),kdp_pe.max(),zdr_pe.max(),zhh_pe.max()\n",
    "    #.."
   ]
  },
  {
   "cell_type": "code",
   "execution_count": 77,
   "metadata": {
    "collapsed": false
   },
   "outputs": [
    {
     "name": "stdout",
     "output_type": "stream",
     "text": [
      "length of track no.  0  =  20\n",
      "2015-07-09 18:23:28\n"
     ]
    },
    {
     "ename": "KeyError",
     "evalue": "1",
     "output_type": "error",
     "traceback": [
      "\u001b[0;31m---------------------------------------------------------------------------\u001b[0m",
      "\u001b[0;31mKeyError\u001b[0m                                  Traceback (most recent call last)",
      "\u001b[0;32m<ipython-input-77-12826e3a0cc1>\u001b[0m in \u001b[0;36m<module>\u001b[0;34m()\u001b[0m\n\u001b[1;32m      1\u001b[0m kdp_pe,zhh_pe, kdp_pct, zhh_pct = track_statistics(df, 0, datapath='/home/mvanlier/Research/Houston_track/',\n\u001b[0;32m----> 2\u001b[0;31m                  return_timeseries=True, return_scalar=False)\n\u001b[0m",
      "\u001b[0;32m<ipython-input-76-2fc9933ccd4f>\u001b[0m in \u001b[0;36mtrack_statistics\u001b[0;34m(df, tr, dist_to_khgx_thresh, mask_rhothresh, mask_dbzthresh, distradius, kdpthr, zdrthr, pctile, verbose, datapath, gridpre, gridsuf, save_timeseries, return_timeseries, return_scalar, zmelt_idx, an_nlayers)\u001b[0m\n\u001b[1;32m     17\u001b[0m     \u001b[0mpathlist\u001b[0m \u001b[0;34m=\u001b[0m \u001b[0;34m[\u001b[0m\u001b[0;34m]\u001b[0m\u001b[0;34m\u001b[0m\u001b[0m\n\u001b[1;32m     18\u001b[0m     \u001b[0;32mfor\u001b[0m \u001b[0mi\u001b[0m \u001b[0;32min\u001b[0m \u001b[0mrange\u001b[0m\u001b[0;34m(\u001b[0m\u001b[0mntr\u001b[0m\u001b[0;34m)\u001b[0m\u001b[0;34m:\u001b[0m\u001b[0;34m\u001b[0m\u001b[0m\n\u001b[0;32m---> 19\u001b[0;31m         \u001b[0mprint\u001b[0m\u001b[0;34m(\u001b[0m\u001b[0mdf\u001b[0m\u001b[0;34m[\u001b[0m\u001b[0mdf\u001b[0m\u001b[0;34m[\u001b[0m\u001b[0;34m'uid'\u001b[0m\u001b[0;34m]\u001b[0m\u001b[0;34m==\u001b[0m\u001b[0mtr\u001b[0m\u001b[0;34m]\u001b[0m\u001b[0;34m[\u001b[0m\u001b[0;34m'time'\u001b[0m\u001b[0;34m]\u001b[0m\u001b[0;34m[\u001b[0m\u001b[0mi\u001b[0m\u001b[0;34m]\u001b[0m\u001b[0;34m[\u001b[0m\u001b[0;34m:\u001b[0m\u001b[0;34m]\u001b[0m\u001b[0;34m)\u001b[0m\u001b[0;34m\u001b[0m\u001b[0m\n\u001b[0m\u001b[1;32m     20\u001b[0m         \u001b[0mstub\u001b[0m\u001b[0;34m=\u001b[0m\u001b[0mdf\u001b[0m\u001b[0;34m[\u001b[0m\u001b[0mdf\u001b[0m\u001b[0;34m[\u001b[0m\u001b[0;34m'uid'\u001b[0m\u001b[0;34m]\u001b[0m\u001b[0;34m==\u001b[0m\u001b[0mtr\u001b[0m\u001b[0;34m]\u001b[0m\u001b[0;34m[\u001b[0m\u001b[0;34m'time'\u001b[0m\u001b[0;34m]\u001b[0m\u001b[0;34m[\u001b[0m\u001b[0mi\u001b[0m\u001b[0;34m]\u001b[0m\u001b[0;34m\u001b[0m\u001b[0m\n\u001b[1;32m     21\u001b[0m         \u001b[0mtimstr\u001b[0m \u001b[0;34m=\u001b[0m \u001b[0mstub\u001b[0m\u001b[0;34m[\u001b[0m\u001b[0;34m-\u001b[0m\u001b[0;36m19\u001b[0m\u001b[0;34m:\u001b[0m\u001b[0;34m-\u001b[0m\u001b[0;36m15\u001b[0m\u001b[0;34m]\u001b[0m\u001b[0;34m+\u001b[0m\u001b[0mstub\u001b[0m\u001b[0;34m[\u001b[0m\u001b[0;34m-\u001b[0m\u001b[0;36m14\u001b[0m\u001b[0;34m:\u001b[0m\u001b[0;34m-\u001b[0m\u001b[0;36m12\u001b[0m\u001b[0;34m]\u001b[0m\u001b[0;34m+\u001b[0m\u001b[0mstub\u001b[0m\u001b[0;34m[\u001b[0m\u001b[0;34m-\u001b[0m\u001b[0;36m11\u001b[0m\u001b[0;34m:\u001b[0m\u001b[0;34m-\u001b[0m\u001b[0;36m9\u001b[0m\u001b[0;34m]\u001b[0m\u001b[0;34m+\u001b[0m\u001b[0;34m'.'\u001b[0m\u001b[0;34m+\u001b[0m\u001b[0mstub\u001b[0m\u001b[0;34m[\u001b[0m\u001b[0;34m-\u001b[0m\u001b[0;36m8\u001b[0m\u001b[0;34m:\u001b[0m\u001b[0;34m-\u001b[0m\u001b[0;36m6\u001b[0m\u001b[0;34m]\u001b[0m\u001b[0;34m+\u001b[0m\u001b[0mstub\u001b[0m\u001b[0;34m[\u001b[0m\u001b[0;34m-\u001b[0m\u001b[0;36m5\u001b[0m\u001b[0;34m:\u001b[0m\u001b[0;34m-\u001b[0m\u001b[0;36m3\u001b[0m\u001b[0;34m]\u001b[0m\u001b[0;34m+\u001b[0m\u001b[0mstub\u001b[0m\u001b[0;34m[\u001b[0m\u001b[0;34m-\u001b[0m\u001b[0;36m2\u001b[0m\u001b[0;34m:\u001b[0m\u001b[0;34m]\u001b[0m\u001b[0;34m\u001b[0m\u001b[0m\n",
      "\u001b[0;32m/home/mvanlier/anaconda3/lib/python3.6/site-packages/pandas/core/series.py\u001b[0m in \u001b[0;36m__getitem__\u001b[0;34m(self, key)\u001b[0m\n\u001b[1;32m    601\u001b[0m         \u001b[0mkey\u001b[0m \u001b[0;34m=\u001b[0m \u001b[0mcom\u001b[0m\u001b[0;34m.\u001b[0m\u001b[0m_apply_if_callable\u001b[0m\u001b[0;34m(\u001b[0m\u001b[0mkey\u001b[0m\u001b[0;34m,\u001b[0m \u001b[0mself\u001b[0m\u001b[0;34m)\u001b[0m\u001b[0;34m\u001b[0m\u001b[0m\n\u001b[1;32m    602\u001b[0m         \u001b[0;32mtry\u001b[0m\u001b[0;34m:\u001b[0m\u001b[0;34m\u001b[0m\u001b[0m\n\u001b[0;32m--> 603\u001b[0;31m             \u001b[0mresult\u001b[0m \u001b[0;34m=\u001b[0m \u001b[0mself\u001b[0m\u001b[0;34m.\u001b[0m\u001b[0mindex\u001b[0m\u001b[0;34m.\u001b[0m\u001b[0mget_value\u001b[0m\u001b[0;34m(\u001b[0m\u001b[0mself\u001b[0m\u001b[0;34m,\u001b[0m \u001b[0mkey\u001b[0m\u001b[0;34m)\u001b[0m\u001b[0;34m\u001b[0m\u001b[0m\n\u001b[0m\u001b[1;32m    604\u001b[0m \u001b[0;34m\u001b[0m\u001b[0m\n\u001b[1;32m    605\u001b[0m             \u001b[0;32mif\u001b[0m \u001b[0;32mnot\u001b[0m \u001b[0mis_scalar\u001b[0m\u001b[0;34m(\u001b[0m\u001b[0mresult\u001b[0m\u001b[0;34m)\u001b[0m\u001b[0;34m:\u001b[0m\u001b[0;34m\u001b[0m\u001b[0m\n",
      "\u001b[0;32m/home/mvanlier/anaconda3/lib/python3.6/site-packages/pandas/indexes/base.py\u001b[0m in \u001b[0;36mget_value\u001b[0;34m(self, series, key)\u001b[0m\n\u001b[1;32m   2167\u001b[0m         \u001b[0;32mtry\u001b[0m\u001b[0;34m:\u001b[0m\u001b[0;34m\u001b[0m\u001b[0m\n\u001b[1;32m   2168\u001b[0m             return self._engine.get_value(s, k,\n\u001b[0;32m-> 2169\u001b[0;31m                                           tz=getattr(series.dtype, 'tz', None))\n\u001b[0m\u001b[1;32m   2170\u001b[0m         \u001b[0;32mexcept\u001b[0m \u001b[0mKeyError\u001b[0m \u001b[0;32mas\u001b[0m \u001b[0me1\u001b[0m\u001b[0;34m:\u001b[0m\u001b[0;34m\u001b[0m\u001b[0m\n\u001b[1;32m   2171\u001b[0m             \u001b[0;32mif\u001b[0m \u001b[0mlen\u001b[0m\u001b[0;34m(\u001b[0m\u001b[0mself\u001b[0m\u001b[0;34m)\u001b[0m \u001b[0;34m>\u001b[0m \u001b[0;36m0\u001b[0m \u001b[0;32mand\u001b[0m \u001b[0mself\u001b[0m\u001b[0;34m.\u001b[0m\u001b[0minferred_type\u001b[0m \u001b[0;32min\u001b[0m \u001b[0;34m[\u001b[0m\u001b[0;34m'integer'\u001b[0m\u001b[0;34m,\u001b[0m \u001b[0;34m'boolean'\u001b[0m\u001b[0;34m]\u001b[0m\u001b[0;34m:\u001b[0m\u001b[0;34m\u001b[0m\u001b[0m\n",
      "\u001b[0;32mpandas/index.pyx\u001b[0m in \u001b[0;36mpandas.index.IndexEngine.get_value (pandas/index.c:3557)\u001b[0;34m()\u001b[0m\n",
      "\u001b[0;32mpandas/index.pyx\u001b[0m in \u001b[0;36mpandas.index.IndexEngine.get_value (pandas/index.c:3240)\u001b[0;34m()\u001b[0m\n",
      "\u001b[0;32mpandas/index.pyx\u001b[0m in \u001b[0;36mpandas.index.IndexEngine.get_loc (pandas/index.c:4279)\u001b[0;34m()\u001b[0m\n",
      "\u001b[0;32mpandas/src/hashtable_class_helper.pxi\u001b[0m in \u001b[0;36mpandas.hashtable.Int64HashTable.get_item (pandas/hashtable.c:8564)\u001b[0;34m()\u001b[0m\n",
      "\u001b[0;32mpandas/src/hashtable_class_helper.pxi\u001b[0m in \u001b[0;36mpandas.hashtable.Int64HashTable.get_item (pandas/hashtable.c:8508)\u001b[0;34m()\u001b[0m\n",
      "\u001b[0;31mKeyError\u001b[0m: 1"
     ]
    }
   ],
   "source": [
    "kdp_pe,zhh_pe, kdp_pct, zhh_pct = track_statistics(df, 0, datapath='/home/mvanlier/Research/Houston_track/',\n",
    "                 return_timeseries=True, return_scalar=False)"
   ]
  },
  {
   "cell_type": "code",
   "execution_count": null,
   "metadata": {
    "collapsed": true
   },
   "outputs": [],
   "source": []
  }
 ],
 "metadata": {
  "kernelspec": {
   "display_name": "Python 3",
   "language": "python",
   "name": "python3"
  },
  "language_info": {
   "codemirror_mode": {
    "name": "ipython",
    "version": 3
   },
   "file_extension": ".py",
   "mimetype": "text/x-python",
   "name": "python",
   "nbconvert_exporter": "python",
   "pygments_lexer": "ipython3",
   "version": "3.6.0"
  }
 },
 "nbformat": 4,
 "nbformat_minor": 2
}
