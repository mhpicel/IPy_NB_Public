{
 "metadata": {
  "name": ""
 },
 "nbformat": 3,
 "nbformat_minor": 0,
 "worksheets": [
  {
   "cells": [
    {
     "cell_type": "code",
     "collapsed": false,
     "input": [
      "import numpy as np\n",
      "import matplotlib.pyplot as plt\n",
      "import matplotlib.cm as cm\n",
      "from netCDF4 import Dataset\n",
      "import scipy,matplotlib\n",
      "import pyart\n",
      "import time\n",
      "import copy\n",
      "import datetime\n",
      "import os\n",
      "%matplotlib inline"
     ],
     "language": "python",
     "metadata": {},
     "outputs": [],
     "prompt_number": 1
    },
    {
     "cell_type": "code",
     "collapsed": false,
     "input": [
      "filenm = 'KVNX20110520_103207_V06'\n",
      "radarob = pyart.io.read_nexrad_archive(filenm)"
     ],
     "language": "python",
     "metadata": {},
     "outputs": [],
     "prompt_number": 2
    },
    {
     "cell_type": "code",
     "collapsed": false,
     "input": [
      "nswp    = radarob.nsweeps\n",
      "swp_arr = range(nswp)\n",
      "swp_arr.remove(1)\n",
      "swp_arr.remove(3)\n",
      "swp_arr.remove(5)\n",
      "print swp_arr\n",
      "radaro = radarob.extract_sweeps(swp_arr)"
     ],
     "language": "python",
     "metadata": {},
     "outputs": [
      {
       "output_type": "stream",
       "stream": "stdout",
       "text": [
        "[0, 2, 4, 6, 7, 8, 9, 10, 11, 12, 13, 14, 15, 16]\n"
       ]
      }
     ],
     "prompt_number": 3
    },
    {
     "cell_type": "code",
     "collapsed": false,
     "input": [
      "ref_name    = 'reflectivity'\n",
      "dphase_name = 'differential_phase'\n",
      "rho_name    = 'cross_correlation_ratio'"
     ],
     "language": "python",
     "metadata": {},
     "outputs": [],
     "prompt_number": 4
    },
    {
     "cell_type": "code",
     "collapsed": false,
     "input": [
      "rad_epoc = (datetime.datetime(int(filenm[4:8]),int(filenm[8:10]),int(filenm[10:12]),\n",
      "                             int(filenm[13:15]),int(filenm[15:17]),int(filenm[17:19])) -\n",
      "            datetime.datetime(1970,1,1)).total_seconds()\n",
      "print rad_epoc"
     ],
     "language": "python",
     "metadata": {},
     "outputs": [
      {
       "output_type": "stream",
       "stream": "stdout",
       "text": [
        "1305887527.0\n"
       ]
      }
     ],
     "prompt_number": 5
    },
    {
     "cell_type": "code",
     "collapsed": false,
     "input": [
      "def walklevel(some_dir, level=1):\n",
      "  some_dir = some_dir.rstrip(os.path.sep)\n",
      "  assert os.path.isdir(some_dir)\n",
      "  num_sep = some_dir.count(os.path.sep)\n",
      "  for root, dirs, files in os.walk(some_dir):\n",
      "    yield root, dirs, files\n",
      "    num_sep_this = root.count(os.path.sep)\n",
      "    if num_sep + level <= num_sep_this:\n",
      "      del dirs[:]"
     ],
     "language": "python",
     "metadata": {},
     "outputs": [],
     "prompt_number": 6
    },
    {
     "cell_type": "code",
     "collapsed": false,
     "input": [
      "#..Melting level routine\n",
      "def get_alttemp(temp,epoch,path='./',tt=.1,iteration=0,fallb=None):\n",
      "  sondefiles = []\n",
      "  epochs = []\n",
      "  numsonde   = 0\n",
      "  for root, dirs, files, in walklevel(path+'./',level=0):\n",
      "    for file in files:\n",
      "      if file.startswith('sgpsondewnpnC1'):\n",
      "        sondefiles.append(file)\n",
      "        numsonde += 1\n",
      "        epochs.append((datetime.datetime(int(file[18:22]),int(file[22:24]),int(file[24:26]),\n",
      "                                         int(file[27:29]),int(file[29:31]),int(file[31:33])) -\n",
      "                       datetime.datetime(1970,1,1)).total_seconds())\n",
      "  np.array(epochs)\n",
      "\n",
      "  time_idx = min(range(numsonde),key=lambda i:abs(epochs[i]-epoch))\n",
      "  print 'Found matching sonde file, index and file name follow',time_idx,sondefiles[time_idx]\n",
      "\n",
      "  nc = Dataset(path+sondefiles[time_idx],'r')\n",
      "  alt  = nc.variables['alt'][:]\n",
      "  tmpt = nc.variables['tdry'][:]\n",
      "  time = nc.variables['time'][:]\n",
      "  nc.close()\n",
      "  #..Do a check to make sure that the file has what we want\n",
      "  if ((temp < (tmpt.min()-tt)) or (temp > (tmpt.max()+tt))):\n",
      "    print 'requested value not within temperature range of sonde!'\n",
      "  else:\n",
      "    for i in range(len(time)):\n",
      "      if (abs(tmpt[i]-temp) <= tt):\n",
      "        alt_idx = i\n",
      "        return alt[alt_idx]\n",
      "\n",
      "  if iteration==0:\n",
      "    print 'trying another sonde file'\n",
      "    if (abs(epochs[time_idx-1]-epoch) <= abs(epochs[time_idx+1]-epoch)):\n",
      "      print 'Trying new sonde file, time and file name:',time_idx-1,sondefiles[time_idx-1]\n",
      "      return get_alttemp(temp,epochs[time_idx-1],path,tt,iteration=1,fallb=fallb)\n",
      "    else:\n",
      "      print 'Trying new sonde file, time and file name:',time_idx+1,sondefiles[time_idx+1]\n",
      "      return get_alttemp(temp,epochs[time_idx+1],path,tt,iteration=2,fallb=fallb)\n",
      "  elif iteration==1:\n",
      "    print 'Trying yet another sonde file, last chance!'\n",
      "    return get_alttemp(temp,epochs[time_idx+2],path,tt,iteration=3,fallb=fallb)\n",
      "  elif iteration==2:\n",
      "    print 'Trying yet another sonde file, last chance!'\n",
      "    return get_alttemp(temp,epochs[time_idx-2],path,tt,iteration=3,fallb=fallb)\n",
      "  else:\n",
      "    if fallback:\n",
      "      tmpepoch = (datetime.datetime(int(fallb[18:22]),int(fallb[22:24]),int(fallb[24:26]),\n",
      "                                    int(fallb[27:29]),int(fallb[29:31]),int(fallb[31:33])) -\n",
      "                  datetime.datetime(1970,1,1)).total_seconds()\n",
      "      return get_alttemp(temp,tmpepoch,path,tt,iteration=3)\n",
      "    else:\n",
      "      raise NameError('NoGoodSondeFound')"
     ],
     "language": "python",
     "metadata": {},
     "outputs": [],
     "prompt_number": 7
    },
    {
     "cell_type": "code",
     "collapsed": false,
     "input": [
      "alt_rad = get_alttemp(0.,rad_epoc,path='/Volumes/virgaDATA/Data/c1_soundings/')\n",
      "print alt_rad"
     ],
     "language": "python",
     "metadata": {},
     "outputs": [
      {
       "output_type": "stream",
       "stream": "stdout",
       "text": [
        "Found matching sonde file, index and file name follow 133 sgpsondewnpnC1.b1.20110520.113700.cdf\n",
        "requested value not within temperature range of sonde!\n",
        "trying another sonde file\n",
        "Trying new sonde file, time and file name: 132 sgpsondewnpnC1.b1.20110520.082800.cdf\n",
        "Found matching sonde file, index and file name follow 132 sgpsondewnpnC1.b1.20110520.082800.cdf\n",
        "3921.0\n"
       ]
      }
     ],
     "prompt_number": 8
    },
    {
     "cell_type": "code",
     "collapsed": false,
     "input": [
      "coh_pwr = copy.deepcopy(radaro.fields[dphase_name])\n",
      "coh_pwr['data'] = coh_pwr['data']*0.+1.\n",
      "radaro.fields['norm_coherent_power'] = coh_pwr"
     ],
     "language": "python",
     "metadata": {},
     "outputs": [],
     "prompt_number": 9
    },
    {
     "cell_type": "code",
     "collapsed": false,
     "input": [
      "#radaro.sweep_start_ray_index['data'] = np.array([0])"
     ],
     "language": "python",
     "metadata": {},
     "outputs": [],
     "prompt_number": 10
    },
    {
     "cell_type": "code",
     "collapsed": false,
     "input": [
      "phidp,kdp = pyart.correct.phase_proc_lp(radaro,0.0,refl_field=ref_name,\n",
      "                                        LP_solver='cylp',\n",
      "                                        ncp_field='norm_coherent_power',\n",
      "                                        rhv_field=rho_name,\n",
      "                                        phidp_field=dphase_name)\n",
      "radaro.fields['phidp'] = phidp\n",
      "radaro.fields['recalculated_diff_phase'] = kdp"
     ],
     "language": "python",
     "metadata": {},
     "outputs": [],
     "prompt_number": "*"
    },
    {
     "cell_type": "code",
     "collapsed": false,
     "input": [],
     "language": "python",
     "metadata": {},
     "outputs": []
    }
   ],
   "metadata": {}
  }
 ]
}