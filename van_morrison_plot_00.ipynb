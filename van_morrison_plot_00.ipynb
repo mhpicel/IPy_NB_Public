{
 "cells": [
  {
   "cell_type": "code",
   "execution_count": 1,
   "metadata": {
    "collapsed": true
   },
   "outputs": [],
   "source": [
    "import numpy as np\n",
    "import matplotlib\n",
    "import matplotlib.pyplot as plt\n",
    "import matplotlib.cm as cm\n",
    "import matplotlib.colors as colors\n",
    "from matplotlib import dates\n",
    "from netCDF4 import num2date,date2num,Dataset\n",
    "import matplotlib._pylab_helpers\n",
    "#from joblib import Parallel, delayed\n",
    "import scipy.interpolate as interpolate\n",
    "from scipy.stats.mstats import scoreatpercentile\n",
    "import scipy.stats as stats\n",
    "from scipy.stats import pearsonr\n",
    "import pandas as pd\n",
    "import pyart\n",
    "import os,subprocess,time,copy\n",
    "import scipy\n",
    "import datetime\n",
    "import matplotlib.gridspec as gridspec\n",
    "#import cPickle as pickle\n",
    "import pickle\n",
    "import pprint\n",
    "import corner\n",
    "%matplotlib inline"
   ]
  },
  {
   "cell_type": "code",
   "execution_count": 2,
   "metadata": {
    "collapsed": true
   },
   "outputs": [],
   "source": [
    "filenm = '/Users/mvanlier/work/mv_hm_mk_op_2015/van_morrison_test_00.nc'\n",
    "nc = Dataset(filenm,'r')\n",
    "params = nc.variables['parameters'][:,:]\n",
    "nc.close()"
   ]
  },
  {
   "cell_type": "code",
   "execution_count": 3,
   "metadata": {
    "collapsed": false
   },
   "outputs": [
    {
     "name": "stdout",
     "output_type": "stream",
     "text": [
      "(55000, 8)\n"
     ]
    }
   ],
   "source": [
    "print params.shape"
   ]
  },
  {
   "cell_type": "code",
   "execution_count": 4,
   "metadata": {
    "collapsed": true
   },
   "outputs": [],
   "source": [
    "labels = ['aqevap1',  'bqevap1',  'anevap1',  'bnevap1',  'aqfall1',  'bqfall1',  'anfall1',  'bnfall1']\n",
    "first_guess = [0.0683,   0.333, 0.0341,   -0.667,     96.4,   .2667,   46.72,   .2667]\n",
    "samples = params\n",
    "label_kwargs = {'fontsize':'20'}\n",
    "#.."
   ]
  },
  {
   "cell_type": "code",
   "execution_count": null,
   "metadata": {
    "collapsed": false
   },
   "outputs": [],
   "source": [
    "fig,axes = corner.corner(samples,labels=labels,truths=first_guess,label_kwargs=label_kwargs)"
   ]
  },
  {
   "cell_type": "code",
   "execution_count": null,
   "metadata": {
    "collapsed": true
   },
   "outputs": [],
   "source": []
  }
 ],
 "metadata": {
  "kernelspec": {
   "display_name": "Python 2",
   "language": "python",
   "name": "python2"
  },
  "language_info": {
   "codemirror_mode": {
    "name": "ipython",
    "version": 2
   },
   "file_extension": ".py",
   "mimetype": "text/x-python",
   "name": "python",
   "nbconvert_exporter": "python",
   "pygments_lexer": "ipython2",
   "version": "2.7.10"
  }
 },
 "nbformat": 4,
 "nbformat_minor": 0
}
