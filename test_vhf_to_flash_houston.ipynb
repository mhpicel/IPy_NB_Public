{
 "cells": [
  {
   "cell_type": "code",
   "execution_count": 1,
   "metadata": {
    "collapsed": true
   },
   "outputs": [],
   "source": [
    "from lmatools.flashsort.autosort.autorun import run_files_with_params, test_output, logger_setup\n",
    "from lmatools.flashsort.autosort.autorun_sklearn import cluster\n",
    "import numpy as np\n",
    "from math import radians, sin, cos, sqrt, asin\n",
    "import scipy\n",
    "import tables\n",
    "import shutil\n",
    "import os,re\n",
    "import cPickle as pickle\n",
    "import matplotlib\n",
    "import matplotlib.pyplot as plt\n",
    "import matplotlib.cm as cm\n",
    "from matplotlib import dates\n",
    "import datetime\n",
    "from joblib import Parallel,delayed\n",
    "from marcus_py_tools import make_edge_vec,xy_from_latlon,latlon_from_xy,walklevel,find_stuff_at_level,haversine\n",
    "%matplotlib inline"
   ]
  },
  {
   "cell_type": "code",
   "execution_count": null,
   "metadata": {
    "collapsed": true
   },
   "outputs": [],
   "source": [
    "def single_file_from_many(path,outfile='ALLDAY_LYLOUT.dat'):\n",
    "    #..This just takes all the 1-minute data and mushes it together into a single file\n",
    "    #..Get list of files in path\n",
    "    lmafiles = []\n",
    "    numfiles = 0\n",
    "    for root,dirs,files in walklevel(path,level=0):\n",
    "        for file in files:\n",
    "            if file.startswith('LYLOUT_'):\n",
    "                lmafiles.append(file)\n",
    "                numfiles += 1\n",
    "    lmafiles = sorted(lmafiles)\n",
    "    #..First copy first file into outfile\n",
    "    shutil.copy2(path+lmafiles[0],path+outfile)\n",
    "    #..Now loop over the rest of the files, appending all stuff after *****data**** \n",
    "    datalinestring = \"*** data ***\\n\"\n",
    "    firstfile = open(path+outfile,'r')\n",
    "    print datalinestring\n",
    "    for line_i,line in enumerate(firstfile,1):\n",
    "        if (line==datalinestring):\n",
    "            print 'found it'\n",
    "            startline = line_i+1\n",
    "            break\n",
    "        else:\n",
    "            pass\n",
    "            #print 'not found'\n",
    "        \n",
    "    firstfile.close()\n",
    "    firstfile = open(path+outfile,'a')\n",
    "    \n",
    "    #..Loop over all files\n",
    "    for i in range(1,numfiles):\n",
    "        filei = open(path+lmafiles[i],'r')\n",
    "        found = False\n",
    "        for line_i,line in enumerate(filei,1):\n",
    "            if (line==datalinestring):\n",
    "                found=True\n",
    "            elif found:\n",
    "                firstfile.write(line)\n",
    "            else:\n",
    "                pass\n",
    "        filei.close()"
   ]
  },
  {
   "cell_type": "code",
   "execution_count": null,
   "metadata": {
    "collapsed": true
   },
   "outputs": [],
   "source": [
    "single_file_from_many('/home/mvanlier/mvanlier/lma_houston/130608/unzipped/')"
   ]
  },
  {
   "cell_type": "code",
   "execution_count": 4,
   "metadata": {
    "collapsed": false
   },
   "outputs": [
    {
     "name": "stdout",
     "output_type": "stream",
     "text": [
      "50\n",
      "sorting 0 total points"
     ]
    },
    {
     "name": "stderr",
     "output_type": "stream",
     "text": [
      "ERROR:FlashAutorunLogger:Did not successfully sort /home/mvanlier/mvanlier/lma_houston/130608/unzipped/ALLDAY_LYLOUT.dat \n",
      " Error was: zero-size array to reduction operation minimum which has no identity\n"
     ]
    },
    {
     "name": "stdout",
     "output_type": "stream",
     "text": [
      "\n"
     ]
    },
    {
     "ename": "ValueError",
     "evalue": "zero-size array to reduction operation minimum which has no identity",
     "output_type": "error",
     "traceback": [
      "\u001b[1;31m---------------------------------------------------------------------------\u001b[0m",
      "\u001b[1;31mValueError\u001b[0m                                Traceback (most recent call last)",
      "\u001b[1;32m<ipython-input-4-671e715284a4>\u001b[0m in \u001b[0;36m<module>\u001b[1;34m()\u001b[0m\n\u001b[0;32m     23\u001b[0m run_files_with_params(['/home/mvanlier/mvanlier/lma_houston/130608/unzipped/ALLDAY_LYLOUT.dat',], \n\u001b[0;32m     24\u001b[0m                       \u001b[1;34m'/home/mvanlier/mvanlier/lma_houston/130608/unzipped/out/'\u001b[0m\u001b[1;33m,\u001b[0m \u001b[0mparams\u001b[0m\u001b[1;33m,\u001b[0m\u001b[1;33m\u001b[0m\u001b[0m\n\u001b[1;32m---> 25\u001b[1;33m                       cluster,retain_ascii_output=False, cleanup_tmp=True)\n\u001b[0m",
      "\u001b[1;32m/home/mvanlier/anaconda/lib/python2.7/site-packages/lmatools/flashsort/autosort/autorun.pyc\u001b[0m in \u001b[0;36mrun_files_with_params\u001b[1;34m(files, output_path, params, clusterer, min_points, retain_ascii_output, cleanup_tmp)\u001b[0m\n\u001b[0;32m    101\u001b[0m             \u001b[1;31m# clusterer should use the name outfile as the base for any, e.g., ASCII data it would like to save\u001b[0m\u001b[1;33m\u001b[0m\u001b[1;33m\u001b[0m\u001b[0m\n\u001b[0;32m    102\u001b[0m             lmadata, flashes = clusterer(a_file, output_path, outfile, params, logger,\n\u001b[1;32m--> 103\u001b[1;33m                        min_points=min_points, retain_ascii_output=retain_ascii_output, cleanup_tmp=cleanup_tmp )\n\u001b[0m\u001b[0;32m    104\u001b[0m \u001b[1;33m\u001b[0m\u001b[0m\n\u001b[0;32m    105\u001b[0m             \u001b[0mheader\u001b[0m \u001b[1;33m=\u001b[0m \u001b[1;34m''\u001b[0m\u001b[1;33m.\u001b[0m\u001b[0mjoin\u001b[0m\u001b[1;33m(\u001b[0m\u001b[0mlmadata\u001b[0m\u001b[1;33m.\u001b[0m\u001b[0mheader\u001b[0m\u001b[1;33m)\u001b[0m\u001b[1;33m\u001b[0m\u001b[0m\n",
      "\u001b[1;32m/home/mvanlier/anaconda/lib/python2.7/site-packages/lmatools/flashsort/autosort/autorun_sklearn.pyc\u001b[0m in \u001b[0;36mcluster\u001b[1;34m(a_file, output_path, outfile, params, logger, min_points, **kwargs)\u001b[0m\n\u001b[0;32m    237\u001b[0m     \u001b[0mX_vector\u001b[0m \u001b[1;33m=\u001b[0m \u001b[0mnp\u001b[0m\u001b[1;33m.\u001b[0m\u001b[0mhstack\u001b[0m\u001b[1;33m(\u001b[0m\u001b[1;33m(\u001b[0m\u001b[0mX\u001b[0m\u001b[1;33m[\u001b[0m\u001b[1;33m:\u001b[0m\u001b[1;33m,\u001b[0m\u001b[0mNone\u001b[0m\u001b[1;33m]\u001b[0m\u001b[1;33m,\u001b[0m\u001b[0mY\u001b[0m\u001b[1;33m[\u001b[0m\u001b[1;33m:\u001b[0m\u001b[1;33m,\u001b[0m\u001b[0mNone\u001b[0m\u001b[1;33m]\u001b[0m\u001b[1;33m,\u001b[0m\u001b[0mZ\u001b[0m\u001b[1;33m[\u001b[0m\u001b[1;33m:\u001b[0m\u001b[1;33m,\u001b[0m\u001b[0mNone\u001b[0m\u001b[1;33m]\u001b[0m\u001b[1;33m)\u001b[0m\u001b[1;33m)\u001b[0m \u001b[1;33m/\u001b[0m \u001b[0mD_max\u001b[0m\u001b[1;33m\u001b[0m\u001b[0m\n\u001b[0;32m    238\u001b[0m     \u001b[0mT_vector\u001b[0m \u001b[1;33m=\u001b[0m \u001b[0mdata\u001b[0m\u001b[1;33m[\u001b[0m\u001b[1;34m'time'\u001b[0m\u001b[1;33m]\u001b[0m\u001b[1;33m[\u001b[0m\u001b[1;33m:\u001b[0m\u001b[1;33m,\u001b[0m\u001b[0mNone\u001b[0m\u001b[1;33m]\u001b[0m \u001b[1;33m/\u001b[0m \u001b[0mt_max\u001b[0m\u001b[1;33m\u001b[0m\u001b[0m\n\u001b[1;32m--> 239\u001b[1;33m     \u001b[0mXYZT\u001b[0m \u001b[1;33m=\u001b[0m \u001b[0mnp\u001b[0m\u001b[1;33m.\u001b[0m\u001b[0mhstack\u001b[0m\u001b[1;33m(\u001b[0m\u001b[1;33m(\u001b[0m\u001b[0mX_vector\u001b[0m\u001b[1;33m,\u001b[0m \u001b[0mT_vector\u001b[0m\u001b[1;33m-\u001b[0m\u001b[0mT_vector\u001b[0m\u001b[1;33m.\u001b[0m\u001b[0mmin\u001b[0m\u001b[1;33m(\u001b[0m\u001b[1;33m)\u001b[0m\u001b[1;33m)\u001b[0m\u001b[1;33m)\u001b[0m\u001b[1;33m\u001b[0m\u001b[0m\n\u001b[0m\u001b[0;32m    240\u001b[0m \u001b[1;33m\u001b[0m\u001b[0m\n\u001b[0;32m    241\u001b[0m     \u001b[0mlma\u001b[0m\u001b[1;33m.\u001b[0m\u001b[0msort_status\u001b[0m \u001b[1;33m=\u001b[0m \u001b[1;34m'in process'\u001b[0m\u001b[1;33m\u001b[0m\u001b[0m\n",
      "\u001b[1;32m/home/mvanlier/anaconda/lib/python2.7/site-packages/numpy/ma/core.pyc\u001b[0m in \u001b[0;36mmin\u001b[1;34m(self, axis, out, fill_value)\u001b[0m\n\u001b[0;32m   5179\u001b[0m         \u001b[1;31m# No explicit output\u001b[0m\u001b[1;33m\u001b[0m\u001b[1;33m\u001b[0m\u001b[0m\n\u001b[0;32m   5180\u001b[0m         \u001b[1;32mif\u001b[0m \u001b[0mout\u001b[0m \u001b[1;32mis\u001b[0m \u001b[0mNone\u001b[0m\u001b[1;33m:\u001b[0m\u001b[1;33m\u001b[0m\u001b[0m\n\u001b[1;32m-> 5181\u001b[1;33m             \u001b[0mresult\u001b[0m \u001b[1;33m=\u001b[0m \u001b[0mself\u001b[0m\u001b[1;33m.\u001b[0m\u001b[0mfilled\u001b[0m\u001b[1;33m(\u001b[0m\u001b[0mfill_value\u001b[0m\u001b[1;33m)\u001b[0m\u001b[1;33m.\u001b[0m\u001b[0mmin\u001b[0m\u001b[1;33m(\u001b[0m\u001b[0maxis\u001b[0m\u001b[1;33m=\u001b[0m\u001b[0maxis\u001b[0m\u001b[1;33m,\u001b[0m \u001b[0mout\u001b[0m\u001b[1;33m=\u001b[0m\u001b[0mout\u001b[0m\u001b[1;33m)\u001b[0m\u001b[1;33m.\u001b[0m\u001b[0mview\u001b[0m\u001b[1;33m(\u001b[0m\u001b[0mtype\u001b[0m\u001b[1;33m(\u001b[0m\u001b[0mself\u001b[0m\u001b[1;33m)\u001b[0m\u001b[1;33m)\u001b[0m\u001b[1;33m\u001b[0m\u001b[0m\n\u001b[0m\u001b[0;32m   5182\u001b[0m             \u001b[1;32mif\u001b[0m \u001b[0mresult\u001b[0m\u001b[1;33m.\u001b[0m\u001b[0mndim\u001b[0m\u001b[1;33m:\u001b[0m\u001b[1;33m\u001b[0m\u001b[0m\n\u001b[0;32m   5183\u001b[0m                 \u001b[1;31m# Set the mask\u001b[0m\u001b[1;33m\u001b[0m\u001b[1;33m\u001b[0m\u001b[0m\n",
      "\u001b[1;32m/home/mvanlier/anaconda/lib/python2.7/site-packages/numpy/core/_methods.pyc\u001b[0m in \u001b[0;36m_amin\u001b[1;34m(a, axis, out, keepdims)\u001b[0m\n\u001b[0;32m     27\u001b[0m \u001b[1;33m\u001b[0m\u001b[0m\n\u001b[0;32m     28\u001b[0m \u001b[1;32mdef\u001b[0m \u001b[0m_amin\u001b[0m\u001b[1;33m(\u001b[0m\u001b[0ma\u001b[0m\u001b[1;33m,\u001b[0m \u001b[0maxis\u001b[0m\u001b[1;33m=\u001b[0m\u001b[0mNone\u001b[0m\u001b[1;33m,\u001b[0m \u001b[0mout\u001b[0m\u001b[1;33m=\u001b[0m\u001b[0mNone\u001b[0m\u001b[1;33m,\u001b[0m \u001b[0mkeepdims\u001b[0m\u001b[1;33m=\u001b[0m\u001b[0mFalse\u001b[0m\u001b[1;33m)\u001b[0m\u001b[1;33m:\u001b[0m\u001b[1;33m\u001b[0m\u001b[0m\n\u001b[1;32m---> 29\u001b[1;33m     \u001b[1;32mreturn\u001b[0m \u001b[0mumr_minimum\u001b[0m\u001b[1;33m(\u001b[0m\u001b[0ma\u001b[0m\u001b[1;33m,\u001b[0m \u001b[0maxis\u001b[0m\u001b[1;33m,\u001b[0m \u001b[0mNone\u001b[0m\u001b[1;33m,\u001b[0m \u001b[0mout\u001b[0m\u001b[1;33m,\u001b[0m \u001b[0mkeepdims\u001b[0m\u001b[1;33m)\u001b[0m\u001b[1;33m\u001b[0m\u001b[0m\n\u001b[0m\u001b[0;32m     30\u001b[0m \u001b[1;33m\u001b[0m\u001b[0m\n\u001b[0;32m     31\u001b[0m \u001b[1;32mdef\u001b[0m \u001b[0m_sum\u001b[0m\u001b[1;33m(\u001b[0m\u001b[0ma\u001b[0m\u001b[1;33m,\u001b[0m \u001b[0maxis\u001b[0m\u001b[1;33m=\u001b[0m\u001b[0mNone\u001b[0m\u001b[1;33m,\u001b[0m \u001b[0mdtype\u001b[0m\u001b[1;33m=\u001b[0m\u001b[0mNone\u001b[0m\u001b[1;33m,\u001b[0m \u001b[0mout\u001b[0m\u001b[1;33m=\u001b[0m\u001b[0mNone\u001b[0m\u001b[1;33m,\u001b[0m \u001b[0mkeepdims\u001b[0m\u001b[1;33m=\u001b[0m\u001b[0mFalse\u001b[0m\u001b[1;33m)\u001b[0m\u001b[1;33m:\u001b[0m\u001b[1;33m\u001b[0m\u001b[0m\n",
      "\u001b[1;31mValueError\u001b[0m: zero-size array to reduction operation minimum which has no identity"
     ]
    }
   ],
   "source": [
    "#..Run with cluster\n",
    "distance=3000.\n",
    "thresh_duration=3.\n",
    "thresh_critical_time=.15\n",
    "merge_critical_time=.5\n",
    "maxchi = 5.\n",
    "option='cluster'\n",
    "#ctr_lat=35.2791257   #..OK LMA\n",
    "#ctr_lon=-97.917867   #..OK LMA\n",
    "ctr_lat = 29.7       #..Houston LMA (roughly)\n",
    "ctr_lon = -95.4      #..Houston LMA (roughly)\n",
    "ctr_alt=417.90\n",
    "\n",
    "params = {'stations':(4,13),\n",
    "              'chi2':(0.,maxchi),\n",
    "              'ascii_flashes_out':'flashes_out.dat',   #..Not sure what this does, tbh\n",
    "              'ctr_lat':ctr_lat,\n",
    "              'ctr_lon':ctr_lon,\n",
    "              'distance':distance,\n",
    "              'thresh_duration':thresh_duration,\n",
    "              'thresh_critical_time':thresh_critical_time,\n",
    "              'merge_critical_time':merge_critical_time}\n",
    "run_files_with_params(['/home/mvanlier/mvanlier/lma_houston/130608/unzipped/ALLDAY_LYLOUT.dat',], \n",
    "                      '/home/mvanlier/mvanlier/lma_houston/130608/unzipped/out/', params, \n",
    "                      cluster,retain_ascii_output=False, cleanup_tmp=True)"
   ]
  },
  {
   "cell_type": "code",
   "execution_count": 5,
   "metadata": {
    "collapsed": false
   },
   "outputs": [
    {
     "ename": "ImportError",
     "evalue": "No module named mflash",
     "output_type": "error",
     "traceback": [
      "\u001b[1;31m---------------------------------------------------------------------------\u001b[0m",
      "\u001b[1;31mImportError\u001b[0m                               Traceback (most recent call last)",
      "\u001b[1;32m<ipython-input-5-cb3a91325354>\u001b[0m in \u001b[0;36m<module>\u001b[1;34m()\u001b[0m\n\u001b[0;32m     23\u001b[0m run_files_with_params(['/home/mvanlier/mvanlier/lma_houston/130608/unzipped/ALLDAY_LYLOUT.dat',], \n\u001b[0;32m     24\u001b[0m                       \u001b[1;34m'/home/mvanlier/mvanlier/lma_houston/130608/unzipped/out/'\u001b[0m\u001b[1;33m,\u001b[0m \u001b[0mparams\u001b[0m\u001b[1;33m,\u001b[0m\u001b[1;33m\u001b[0m\u001b[0m\n\u001b[1;32m---> 25\u001b[1;33m                       retain_ascii_output=False, cleanup_tmp=True)\n\u001b[0m",
      "\u001b[1;32m/home/mvanlier/anaconda/lib/python2.7/site-packages/lmatools/flashsort/autosort/autorun.pyc\u001b[0m in \u001b[0;36mrun_files_with_params\u001b[1;34m(files, output_path, params, clusterer, min_points, retain_ascii_output, cleanup_tmp)\u001b[0m\n\u001b[0;32m     58\u001b[0m \u001b[1;32mdef\u001b[0m \u001b[0mrun_files_with_params\u001b[0m\u001b[1;33m(\u001b[0m\u001b[0mfiles\u001b[0m\u001b[1;33m,\u001b[0m \u001b[0moutput_path\u001b[0m\u001b[1;33m,\u001b[0m \u001b[0mparams\u001b[0m\u001b[1;33m,\u001b[0m \u001b[0mclusterer\u001b[0m\u001b[1;33m=\u001b[0m\u001b[0mNone\u001b[0m\u001b[1;33m,\u001b[0m \u001b[0mmin_points\u001b[0m\u001b[1;33m=\u001b[0m\u001b[1;36m1\u001b[0m\u001b[1;33m,\u001b[0m \u001b[0mretain_ascii_output\u001b[0m\u001b[1;33m=\u001b[0m\u001b[0mTrue\u001b[0m\u001b[1;33m,\u001b[0m \u001b[0mcleanup_tmp\u001b[0m\u001b[1;33m=\u001b[0m\u001b[0mTrue\u001b[0m\u001b[1;33m)\u001b[0m\u001b[1;33m:\u001b[0m\u001b[1;33m\u001b[0m\u001b[0m\n\u001b[0;32m     59\u001b[0m     \u001b[1;32mif\u001b[0m \u001b[0mclusterer\u001b[0m \u001b[1;32mis\u001b[0m \u001b[0mNone\u001b[0m\u001b[1;33m:\u001b[0m\u001b[1;33m\u001b[0m\u001b[0m\n\u001b[1;32m---> 60\u001b[1;33m         \u001b[1;32mfrom\u001b[0m \u001b[0mautorun_mflash\u001b[0m \u001b[1;32mimport\u001b[0m \u001b[0mbuild\u001b[0m\u001b[1;33m,\u001b[0m \u001b[0mcleanup_build\u001b[0m\u001b[1;33m,\u001b[0m \u001b[0mcollect_output\u001b[0m\u001b[1;33m\u001b[0m\u001b[0m\n\u001b[0m\u001b[0;32m     61\u001b[0m         \u001b[1;32mfrom\u001b[0m \u001b[0mautorun_mflash\u001b[0m \u001b[1;32mimport\u001b[0m \u001b[0mcluster\u001b[0m\u001b[1;33m\u001b[0m\u001b[0m\n\u001b[0;32m     62\u001b[0m         \u001b[0mclusterer\u001b[0m \u001b[1;33m=\u001b[0m \u001b[0mcluster\u001b[0m\u001b[1;33m\u001b[0m\u001b[0m\n",
      "\u001b[1;32m/home/mvanlier/anaconda/lib/python2.7/site-packages/lmatools/flashsort/autosort/autorun_mflash.py\u001b[0m in \u001b[0;36m<module>\u001b[1;34m()\u001b[0m\n\u001b[0;32m     10\u001b[0m \u001b[1;32mfrom\u001b[0m \u001b[0mLMAarrayFile\u001b[0m \u001b[1;32mimport\u001b[0m \u001b[0mcat_LMA\u001b[0m\u001b[1;33m,\u001b[0m \u001b[0mLMAdataFile\u001b[0m\u001b[1;33m\u001b[0m\u001b[0m\n\u001b[0;32m     11\u001b[0m \u001b[1;33m\u001b[0m\u001b[0m\n\u001b[1;32m---> 12\u001b[1;33m \u001b[1;32mfrom\u001b[0m \u001b[0mmflash\u001b[0m \u001b[1;32mimport\u001b[0m \u001b[0mwrite_header\u001b[0m\u001b[1;33m\u001b[0m\u001b[0m\n\u001b[0m\u001b[0;32m     13\u001b[0m \u001b[1;33m\u001b[0m\u001b[0m\n\u001b[0;32m     14\u001b[0m \u001b[0mLOG_BASEFILENAME\u001b[0m \u001b[1;33m=\u001b[0m \u001b[0mdatetime\u001b[0m\u001b[1;33m.\u001b[0m\u001b[0mdatetime\u001b[0m\u001b[1;33m.\u001b[0m\u001b[0mnow\u001b[0m\u001b[1;33m(\u001b[0m\u001b[1;33m)\u001b[0m\u001b[1;33m.\u001b[0m\u001b[0mstrftime\u001b[0m\u001b[1;33m(\u001b[0m\u001b[1;34m'Flash-autosort.log'\u001b[0m\u001b[1;33m)\u001b[0m\u001b[1;33m\u001b[0m\u001b[0m\n",
      "\u001b[1;31mImportError\u001b[0m: No module named mflash"
     ]
    }
   ],
   "source": [
    "#..Run \"normal\"\n",
    "distance=3000.\n",
    "thresh_duration=3.\n",
    "thresh_critical_time=.15\n",
    "merge_critical_time=.5\n",
    "maxchi = 5.\n",
    "option='cluster'\n",
    "#ctr_lat=35.2791257   #..OK LMA\n",
    "#ctr_lon=-97.917867   #..OK LMA\n",
    "ctr_lat = 29.7       #..Houston LMA (roughly)\n",
    "ctr_lon = -95.4      #..Houston LMA (roughly)\n",
    "ctr_alt=417.90\n",
    "\n",
    "params = {'stations':(4,13),\n",
    "              'chi2':(0.,maxchi),\n",
    "              'ascii_flashes_out':'flashes_out.dat',   #..Not sure what this does, tbh\n",
    "              'ctr_lat':ctr_lat,\n",
    "              'ctr_lon':ctr_lon,\n",
    "              'distance':distance,\n",
    "              'thresh_duration':thresh_duration,\n",
    "              'thresh_critical_time':thresh_critical_time,\n",
    "              'merge_critical_time':merge_critical_time}\n",
    "run_files_with_params(['/home/mvanlier/mvanlier/lma_houston/130608/unzipped/ALLDAY_LYLOUT.dat',], \n",
    "                      '/home/mvanlier/mvanlier/lma_houston/130608/unzipped/out/', params, \n",
    "                      retain_ascii_output=False, cleanup_tmp=True)"
   ]
  },
  {
   "cell_type": "code",
   "execution_count": null,
   "metadata": {
    "collapsed": true
   },
   "outputs": [],
   "source": [
    "with open('/home/mvanlier/mvanlier/lma_houston/130608/unzipped/ALLDAY_LYLOUT.dat') as myfile:\n",
    "    head = [next(myfile) for i in xrange(100)]\n"
   ]
  }
 ],
 "metadata": {
  "kernelspec": {
   "display_name": "Python 2",
   "language": "python",
   "name": "python2"
  },
  "language_info": {
   "codemirror_mode": {
    "name": "ipython",
    "version": 2
   },
   "file_extension": ".py",
   "mimetype": "text/x-python",
   "name": "python",
   "nbconvert_exporter": "python",
   "pygments_lexer": "ipython2",
   "version": "2.7.10"
  }
 },
 "nbformat": 4,
 "nbformat_minor": 0
}
