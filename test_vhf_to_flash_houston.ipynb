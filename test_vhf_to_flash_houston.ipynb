{
 "cells": [
  {
   "cell_type": "code",
   "execution_count": 1,
   "metadata": {
    "collapsed": true
   },
   "outputs": [],
   "source": [
    "from lmatools.flashsort.autosort.autorun import run_files_with_params, test_output, logger_setup\n",
    "from lmatools.flashsort.autosort.autorun_sklearn import cluster\n",
    "import numpy as np\n",
    "from math import radians, sin, cos, sqrt, asin\n",
    "import scipy\n",
    "import tables\n",
    "import shutil\n",
    "import os,re\n",
    "import cPickle as pickle\n",
    "import matplotlib\n",
    "import matplotlib.pyplot as plt\n",
    "import matplotlib.cm as cm\n",
    "from matplotlib import dates\n",
    "import datetime\n",
    "from joblib import Parallel,delayed\n",
    "from marcus_py_tools import make_edge_vec,xy_from_latlon,latlon_from_xy,walklevel,find_stuff_at_level,haversine\n",
    "%matplotlib inline"
   ]
  },
  {
   "cell_type": "code",
   "execution_count": null,
   "metadata": {
    "collapsed": true
   },
   "outputs": [],
   "source": [
    "def single_file_from_many(path,outfile='ALLDAY_LYLOUT.dat'):\n",
    "    #..This just takes all the 1-minute data and mushes it together into a single file\n",
    "    #..Get list of files in path\n",
    "    lmafiles = []\n",
    "    numfiles = 0\n",
    "    for root,dirs,files in walklevel(path,level=0):\n",
    "        for file in files:\n",
    "            if file.startswith('LYLOUT_'):\n",
    "                lmafiles.append(file)\n",
    "                numfiles += 1\n",
    "    lmafiles = sorted(lmafiles)\n",
    "    #..First copy first file into outfile\n",
    "    shutil.copy2(path+lmafiles[0],path+outfile)\n",
    "    #..Now loop over the rest of the files, appending all stuff after *****data**** \n",
    "    datalinestring = \"*** data ***\\n\"\n",
    "    firstfile = open(path+outfile,'r')\n",
    "    print datalinestring\n",
    "    for line_i,line in enumerate(firstfile,1):\n",
    "        if (line==datalinestring):\n",
    "            print 'found it'\n",
    "            startline = line_i+1\n",
    "            break\n",
    "        else:\n",
    "            pass\n",
    "            #print 'not found'\n",
    "        \n",
    "    firstfile.close()\n",
    "    firstfile = open(path+outfile,'a')\n",
    "    \n",
    "    #..Loop over all files\n",
    "    for i in range(1,numfiles):\n",
    "        filei = open(path+lmafiles[i],'r')\n",
    "        found = False\n",
    "        for line_i,line in enumerate(filei,1):\n",
    "            if (line==datalinestring):\n",
    "                found=True\n",
    "            elif found:\n",
    "                firstfile.write(line)\n",
    "            else:\n",
    "                pass\n",
    "        filei.close()"
   ]
  },
  {
   "cell_type": "code",
   "execution_count": null,
   "metadata": {
    "collapsed": true
   },
   "outputs": [],
   "source": [
    "single_file_from_many('/home/mvanlier/mvanlier/lma_houston/130608/unzipped/')"
   ]
  },
  {
   "cell_type": "code",
   "execution_count": 4,
   "metadata": {
    "collapsed": false
   },
   "outputs": [
    {
     "name": "stdout",
     "output_type": "stream",
     "text": [
      "50\n",
      "sorting 0 total points"
     ]
    },
    {
     "name": "stderr",
     "output_type": "stream",
     "text": [
      "ERROR:FlashAutorunLogger:Did not successfully sort /home/mvanlier/mvanlier/lma_houston/130608/unzipped/ALLDAY_LYLOUT.dat \n",
      " Error was: zero-size array to reduction operation minimum which has no identity\n"
     ]
    },
    {
     "name": "stdout",
     "output_type": "stream",
     "text": [
      "\n"
     ]
    },
    {
     "ename": "ValueError",
     "evalue": "zero-size array to reduction operation minimum which has no identity",
     "output_type": "error",
     "traceback": [
      "\u001b[1;31m---------------------------------------------------------------------------\u001b[0m",
      "\u001b[1;31mValueError\u001b[0m                                Traceback (most recent call last)",
      "\u001b[1;32m<ipython-input-4-671e715284a4>\u001b[0m in \u001b[0;36m<module>\u001b[1;34m()\u001b[0m\n\u001b[0;32m     23\u001b[0m run_files_with_params(['/home/mvanlier/mvanlier/lma_houston/130608/unzipped/ALLDAY_LYLOUT.dat',], \n\u001b[0;32m     24\u001b[0m                       \u001b[1;34m'/home/mvanlier/mvanlier/lma_houston/130608/unzipped/out/'\u001b[0m\u001b[1;33m,\u001b[0m \u001b[0mparams\u001b[0m\u001b[1;33m,\u001b[0m\u001b[1;33m\u001b[0m\u001b[0m\n\u001b[1;32m---> 25\u001b[1;33m                       cluster,retain_ascii_output=False, cleanup_tmp=True)\n\u001b[0m",
      "\u001b[1;32m/home/mvanlier/anaconda/lib/python2.7/site-packages/lmatools/flashsort/autosort/autorun.pyc\u001b[0m in \u001b[0;36mrun_files_with_params\u001b[1;34m(files, output_path, params, clusterer, min_points, retain_ascii_output, cleanup_tmp)\u001b[0m\n\u001b[0;32m    101\u001b[0m             \u001b[1;31m# clusterer should use the name outfile as the base for any, e.g., ASCII data it would like to save\u001b[0m\u001b[1;33m\u001b[0m\u001b[1;33m\u001b[0m\u001b[0m\n\u001b[0;32m    102\u001b[0m             lmadata, flashes = clusterer(a_file, output_path, outfile, params, logger,\n\u001b[1;32m--> 103\u001b[1;33m                        min_points=min_points, retain_ascii_output=retain_ascii_output, cleanup_tmp=cleanup_tmp )\n\u001b[0m\u001b[0;32m    104\u001b[0m \u001b[1;33m\u001b[0m\u001b[0m\n\u001b[0;32m    105\u001b[0m             \u001b[0mheader\u001b[0m \u001b[1;33m=\u001b[0m \u001b[1;34m''\u001b[0m\u001b[1;33m.\u001b[0m\u001b[0mjoin\u001b[0m\u001b[1;33m(\u001b[0m\u001b[0mlmadata\u001b[0m\u001b[1;33m.\u001b[0m\u001b[0mheader\u001b[0m\u001b[1;33m)\u001b[0m\u001b[1;33m\u001b[0m\u001b[0m\n",
      "\u001b[1;32m/home/mvanlier/anaconda/lib/python2.7/site-packages/lmatools/flashsort/autosort/autorun_sklearn.pyc\u001b[0m in \u001b[0;36mcluster\u001b[1;34m(a_file, output_path, outfile, params, logger, min_points, **kwargs)\u001b[0m\n\u001b[0;32m    237\u001b[0m     \u001b[0mX_vector\u001b[0m \u001b[1;33m=\u001b[0m \u001b[0mnp\u001b[0m\u001b[1;33m.\u001b[0m\u001b[0mhstack\u001b[0m\u001b[1;33m(\u001b[0m\u001b[1;33m(\u001b[0m\u001b[0mX\u001b[0m\u001b[1;33m[\u001b[0m\u001b[1;33m:\u001b[0m\u001b[1;33m,\u001b[0m\u001b[0mNone\u001b[0m\u001b[1;33m]\u001b[0m\u001b[1;33m,\u001b[0m\u001b[0mY\u001b[0m\u001b[1;33m[\u001b[0m\u001b[1;33m:\u001b[0m\u001b[1;33m,\u001b[0m\u001b[0mNone\u001b[0m\u001b[1;33m]\u001b[0m\u001b[1;33m,\u001b[0m\u001b[0mZ\u001b[0m\u001b[1;33m[\u001b[0m\u001b[1;33m:\u001b[0m\u001b[1;33m,\u001b[0m\u001b[0mNone\u001b[0m\u001b[1;33m]\u001b[0m\u001b[1;33m)\u001b[0m\u001b[1;33m)\u001b[0m \u001b[1;33m/\u001b[0m \u001b[0mD_max\u001b[0m\u001b[1;33m\u001b[0m\u001b[0m\n\u001b[0;32m    238\u001b[0m     \u001b[0mT_vector\u001b[0m \u001b[1;33m=\u001b[0m \u001b[0mdata\u001b[0m\u001b[1;33m[\u001b[0m\u001b[1;34m'time'\u001b[0m\u001b[1;33m]\u001b[0m\u001b[1;33m[\u001b[0m\u001b[1;33m:\u001b[0m\u001b[1;33m,\u001b[0m\u001b[0mNone\u001b[0m\u001b[1;33m]\u001b[0m \u001b[1;33m/\u001b[0m \u001b[0mt_max\u001b[0m\u001b[1;33m\u001b[0m\u001b[0m\n\u001b[1;32m--> 239\u001b[1;33m     \u001b[0mXYZT\u001b[0m \u001b[1;33m=\u001b[0m \u001b[0mnp\u001b[0m\u001b[1;33m.\u001b[0m\u001b[0mhstack\u001b[0m\u001b[1;33m(\u001b[0m\u001b[1;33m(\u001b[0m\u001b[0mX_vector\u001b[0m\u001b[1;33m,\u001b[0m \u001b[0mT_vector\u001b[0m\u001b[1;33m-\u001b[0m\u001b[0mT_vector\u001b[0m\u001b[1;33m.\u001b[0m\u001b[0mmin\u001b[0m\u001b[1;33m(\u001b[0m\u001b[1;33m)\u001b[0m\u001b[1;33m)\u001b[0m\u001b[1;33m)\u001b[0m\u001b[1;33m\u001b[0m\u001b[0m\n\u001b[0m\u001b[0;32m    240\u001b[0m \u001b[1;33m\u001b[0m\u001b[0m\n\u001b[0;32m    241\u001b[0m     \u001b[0mlma\u001b[0m\u001b[1;33m.\u001b[0m\u001b[0msort_status\u001b[0m \u001b[1;33m=\u001b[0m \u001b[1;34m'in process'\u001b[0m\u001b[1;33m\u001b[0m\u001b[0m\n",
      "\u001b[1;32m/home/mvanlier/anaconda/lib/python2.7/site-packages/numpy/ma/core.pyc\u001b[0m in \u001b[0;36mmin\u001b[1;34m(self, axis, out, fill_value)\u001b[0m\n\u001b[0;32m   5179\u001b[0m         \u001b[1;31m# No explicit output\u001b[0m\u001b[1;33m\u001b[0m\u001b[1;33m\u001b[0m\u001b[0m\n\u001b[0;32m   5180\u001b[0m         \u001b[1;32mif\u001b[0m \u001b[0mout\u001b[0m \u001b[1;32mis\u001b[0m \u001b[0mNone\u001b[0m\u001b[1;33m:\u001b[0m\u001b[1;33m\u001b[0m\u001b[0m\n\u001b[1;32m-> 5181\u001b[1;33m             \u001b[0mresult\u001b[0m \u001b[1;33m=\u001b[0m \u001b[0mself\u001b[0m\u001b[1;33m.\u001b[0m\u001b[0mfilled\u001b[0m\u001b[1;33m(\u001b[0m\u001b[0mfill_value\u001b[0m\u001b[1;33m)\u001b[0m\u001b[1;33m.\u001b[0m\u001b[0mmin\u001b[0m\u001b[1;33m(\u001b[0m\u001b[0maxis\u001b[0m\u001b[1;33m=\u001b[0m\u001b[0maxis\u001b[0m\u001b[1;33m,\u001b[0m \u001b[0mout\u001b[0m\u001b[1;33m=\u001b[0m\u001b[0mout\u001b[0m\u001b[1;33m)\u001b[0m\u001b[1;33m.\u001b[0m\u001b[0mview\u001b[0m\u001b[1;33m(\u001b[0m\u001b[0mtype\u001b[0m\u001b[1;33m(\u001b[0m\u001b[0mself\u001b[0m\u001b[1;33m)\u001b[0m\u001b[1;33m)\u001b[0m\u001b[1;33m\u001b[0m\u001b[0m\n\u001b[0m\u001b[0;32m   5182\u001b[0m             \u001b[1;32mif\u001b[0m \u001b[0mresult\u001b[0m\u001b[1;33m.\u001b[0m\u001b[0mndim\u001b[0m\u001b[1;33m:\u001b[0m\u001b[1;33m\u001b[0m\u001b[0m\n\u001b[0;32m   5183\u001b[0m                 \u001b[1;31m# Set the mask\u001b[0m\u001b[1;33m\u001b[0m\u001b[1;33m\u001b[0m\u001b[0m\n",
      "\u001b[1;32m/home/mvanlier/anaconda/lib/python2.7/site-packages/numpy/core/_methods.pyc\u001b[0m in \u001b[0;36m_amin\u001b[1;34m(a, axis, out, keepdims)\u001b[0m\n\u001b[0;32m     27\u001b[0m \u001b[1;33m\u001b[0m\u001b[0m\n\u001b[0;32m     28\u001b[0m \u001b[1;32mdef\u001b[0m \u001b[0m_amin\u001b[0m\u001b[1;33m(\u001b[0m\u001b[0ma\u001b[0m\u001b[1;33m,\u001b[0m \u001b[0maxis\u001b[0m\u001b[1;33m=\u001b[0m\u001b[0mNone\u001b[0m\u001b[1;33m,\u001b[0m \u001b[0mout\u001b[0m\u001b[1;33m=\u001b[0m\u001b[0mNone\u001b[0m\u001b[1;33m,\u001b[0m \u001b[0mkeepdims\u001b[0m\u001b[1;33m=\u001b[0m\u001b[0mFalse\u001b[0m\u001b[1;33m)\u001b[0m\u001b[1;33m:\u001b[0m\u001b[1;33m\u001b[0m\u001b[0m\n\u001b[1;32m---> 29\u001b[1;33m     \u001b[1;32mreturn\u001b[0m \u001b[0mumr_minimum\u001b[0m\u001b[1;33m(\u001b[0m\u001b[0ma\u001b[0m\u001b[1;33m,\u001b[0m \u001b[0maxis\u001b[0m\u001b[1;33m,\u001b[0m \u001b[0mNone\u001b[0m\u001b[1;33m,\u001b[0m \u001b[0mout\u001b[0m\u001b[1;33m,\u001b[0m \u001b[0mkeepdims\u001b[0m\u001b[1;33m)\u001b[0m\u001b[1;33m\u001b[0m\u001b[0m\n\u001b[0m\u001b[0;32m     30\u001b[0m \u001b[1;33m\u001b[0m\u001b[0m\n\u001b[0;32m     31\u001b[0m \u001b[1;32mdef\u001b[0m \u001b[0m_sum\u001b[0m\u001b[1;33m(\u001b[0m\u001b[0ma\u001b[0m\u001b[1;33m,\u001b[0m \u001b[0maxis\u001b[0m\u001b[1;33m=\u001b[0m\u001b[0mNone\u001b[0m\u001b[1;33m,\u001b[0m \u001b[0mdtype\u001b[0m\u001b[1;33m=\u001b[0m\u001b[0mNone\u001b[0m\u001b[1;33m,\u001b[0m \u001b[0mout\u001b[0m\u001b[1;33m=\u001b[0m\u001b[0mNone\u001b[0m\u001b[1;33m,\u001b[0m \u001b[0mkeepdims\u001b[0m\u001b[1;33m=\u001b[0m\u001b[0mFalse\u001b[0m\u001b[1;33m)\u001b[0m\u001b[1;33m:\u001b[0m\u001b[1;33m\u001b[0m\u001b[0m\n",
      "\u001b[1;31mValueError\u001b[0m: zero-size array to reduction operation minimum which has no identity"
     ]
    }
   ],
   "source": [
    "#..Run with cluster\n",
    "distance=3000.\n",
    "thresh_duration=3.\n",
    "thresh_critical_time=.15\n",
    "merge_critical_time=.5\n",
    "maxchi = 5.\n",
    "option='cluster'\n",
    "#ctr_lat=35.2791257   #..OK LMA\n",
    "#ctr_lon=-97.917867   #..OK LMA\n",
    "ctr_lat = 29.7       #..Houston LMA (roughly)\n",
    "ctr_lon = -95.4      #..Houston LMA (roughly)\n",
    "ctr_alt=417.90\n",
    "\n",
    "params = {'stations':(4,13),\n",
    "              'chi2':(0.,maxchi),\n",
    "              'ascii_flashes_out':'flashes_out.dat',   #..Not sure what this does, tbh\n",
    "              'ctr_lat':ctr_lat,\n",
    "              'ctr_lon':ctr_lon,\n",
    "              'distance':distance,\n",
    "              'thresh_duration':thresh_duration,\n",
    "              'thresh_critical_time':thresh_critical_time,\n",
    "              'merge_critical_time':merge_critical_time}\n",
    "run_files_with_params(['/home/mvanlier/mvanlier/lma_houston/130608/unzipped/ALLDAY_LYLOUT.dat',], \n",
    "                      '/home/mvanlier/mvanlier/lma_houston/130608/unzipped/out/', params, \n",
    "                      cluster,retain_ascii_output=False, cleanup_tmp=True)"
   ]
  },
  {
   "cell_type": "code",
   "execution_count": 5,
   "metadata": {
    "collapsed": false
   },
   "outputs": [
    {
     "ename": "ImportError",
     "evalue": "No module named mflash",
     "output_type": "error",
     "traceback": [
      "\u001b[1;31m---------------------------------------------------------------------------\u001b[0m",
      "\u001b[1;31mImportError\u001b[0m                               Traceback (most recent call last)",
      "\u001b[1;32m<ipython-input-5-cb3a91325354>\u001b[0m in \u001b[0;36m<module>\u001b[1;34m()\u001b[0m\n\u001b[0;32m     23\u001b[0m run_files_with_params(['/home/mvanlier/mvanlier/lma_houston/130608/unzipped/ALLDAY_LYLOUT.dat',], \n\u001b[0;32m     24\u001b[0m                       \u001b[1;34m'/home/mvanlier/mvanlier/lma_houston/130608/unzipped/out/'\u001b[0m\u001b[1;33m,\u001b[0m \u001b[0mparams\u001b[0m\u001b[1;33m,\u001b[0m\u001b[1;33m\u001b[0m\u001b[0m\n\u001b[1;32m---> 25\u001b[1;33m                       retain_ascii_output=False, cleanup_tmp=True)\n\u001b[0m",
      "\u001b[1;32m/home/mvanlier/anaconda/lib/python2.7/site-packages/lmatools/flashsort/autosort/autorun.pyc\u001b[0m in \u001b[0;36mrun_files_with_params\u001b[1;34m(files, output_path, params, clusterer, min_points, retain_ascii_output, cleanup_tmp)\u001b[0m\n\u001b[0;32m     58\u001b[0m \u001b[1;32mdef\u001b[0m \u001b[0mrun_files_with_params\u001b[0m\u001b[1;33m(\u001b[0m\u001b[0mfiles\u001b[0m\u001b[1;33m,\u001b[0m \u001b[0moutput_path\u001b[0m\u001b[1;33m,\u001b[0m \u001b[0mparams\u001b[0m\u001b[1;33m,\u001b[0m \u001b[0mclusterer\u001b[0m\u001b[1;33m=\u001b[0m\u001b[0mNone\u001b[0m\u001b[1;33m,\u001b[0m \u001b[0mmin_points\u001b[0m\u001b[1;33m=\u001b[0m\u001b[1;36m1\u001b[0m\u001b[1;33m,\u001b[0m \u001b[0mretain_ascii_output\u001b[0m\u001b[1;33m=\u001b[0m\u001b[0mTrue\u001b[0m\u001b[1;33m,\u001b[0m \u001b[0mcleanup_tmp\u001b[0m\u001b[1;33m=\u001b[0m\u001b[0mTrue\u001b[0m\u001b[1;33m)\u001b[0m\u001b[1;33m:\u001b[0m\u001b[1;33m\u001b[0m\u001b[0m\n\u001b[0;32m     59\u001b[0m     \u001b[1;32mif\u001b[0m \u001b[0mclusterer\u001b[0m \u001b[1;32mis\u001b[0m \u001b[0mNone\u001b[0m\u001b[1;33m:\u001b[0m\u001b[1;33m\u001b[0m\u001b[0m\n\u001b[1;32m---> 60\u001b[1;33m         \u001b[1;32mfrom\u001b[0m \u001b[0mautorun_mflash\u001b[0m \u001b[1;32mimport\u001b[0m \u001b[0mbuild\u001b[0m\u001b[1;33m,\u001b[0m \u001b[0mcleanup_build\u001b[0m\u001b[1;33m,\u001b[0m \u001b[0mcollect_output\u001b[0m\u001b[1;33m\u001b[0m\u001b[0m\n\u001b[0m\u001b[0;32m     61\u001b[0m         \u001b[1;32mfrom\u001b[0m \u001b[0mautorun_mflash\u001b[0m \u001b[1;32mimport\u001b[0m \u001b[0mcluster\u001b[0m\u001b[1;33m\u001b[0m\u001b[0m\n\u001b[0;32m     62\u001b[0m         \u001b[0mclusterer\u001b[0m \u001b[1;33m=\u001b[0m \u001b[0mcluster\u001b[0m\u001b[1;33m\u001b[0m\u001b[0m\n",
      "\u001b[1;32m/home/mvanlier/anaconda/lib/python2.7/site-packages/lmatools/flashsort/autosort/autorun_mflash.py\u001b[0m in \u001b[0;36m<module>\u001b[1;34m()\u001b[0m\n\u001b[0;32m     10\u001b[0m \u001b[1;32mfrom\u001b[0m \u001b[0mLMAarrayFile\u001b[0m \u001b[1;32mimport\u001b[0m \u001b[0mcat_LMA\u001b[0m\u001b[1;33m,\u001b[0m \u001b[0mLMAdataFile\u001b[0m\u001b[1;33m\u001b[0m\u001b[0m\n\u001b[0;32m     11\u001b[0m \u001b[1;33m\u001b[0m\u001b[0m\n\u001b[1;32m---> 12\u001b[1;33m \u001b[1;32mfrom\u001b[0m \u001b[0mmflash\u001b[0m \u001b[1;32mimport\u001b[0m \u001b[0mwrite_header\u001b[0m\u001b[1;33m\u001b[0m\u001b[0m\n\u001b[0m\u001b[0;32m     13\u001b[0m \u001b[1;33m\u001b[0m\u001b[0m\n\u001b[0;32m     14\u001b[0m \u001b[0mLOG_BASEFILENAME\u001b[0m \u001b[1;33m=\u001b[0m \u001b[0mdatetime\u001b[0m\u001b[1;33m.\u001b[0m\u001b[0mdatetime\u001b[0m\u001b[1;33m.\u001b[0m\u001b[0mnow\u001b[0m\u001b[1;33m(\u001b[0m\u001b[1;33m)\u001b[0m\u001b[1;33m.\u001b[0m\u001b[0mstrftime\u001b[0m\u001b[1;33m(\u001b[0m\u001b[1;34m'Flash-autosort.log'\u001b[0m\u001b[1;33m)\u001b[0m\u001b[1;33m\u001b[0m\u001b[0m\n",
      "\u001b[1;31mImportError\u001b[0m: No module named mflash"
     ]
    }
   ],
   "source": [
    "#..Run \"normal\"\n",
    "distance=3000.\n",
    "thresh_duration=3.\n",
    "thresh_critical_time=.15\n",
    "merge_critical_time=.5\n",
    "maxchi = 5.\n",
    "option='cluster'\n",
    "#ctr_lat=35.2791257   #..OK LMA\n",
    "#ctr_lon=-97.917867   #..OK LMA\n",
    "ctr_lat = 29.7       #..Houston LMA (roughly)\n",
    "ctr_lon = -95.4      #..Houston LMA (roughly)\n",
    "ctr_alt=417.90\n",
    "\n",
    "params = {'stations':(4,13),\n",
    "              'chi2':(0.,maxchi),\n",
    "              'ascii_flashes_out':'flashes_out.dat',   #..Not sure what this does, tbh\n",
    "              'ctr_lat':ctr_lat,\n",
    "              'ctr_lon':ctr_lon,\n",
    "              'distance':distance,\n",
    "              'thresh_duration':thresh_duration,\n",
    "              'thresh_critical_time':thresh_critical_time,\n",
    "              'merge_critical_time':merge_critical_time}\n",
    "run_files_with_params(['/home/mvanlier/mvanlier/lma_houston/130608/unzipped/ALLDAY_LYLOUT.dat',], \n",
    "                      '/home/mvanlier/mvanlier/lma_houston/130608/unzipped/out/', params, \n",
    "                      retain_ascii_output=False, cleanup_tmp=True)"
   ]
  },
  {
   "cell_type": "code",
   "execution_count": 6,
   "metadata": {
    "collapsed": false
   },
   "outputs": [
    {
     "name": "stdout",
     "output_type": "stream",
     "text": [
      "['New Mexico Tech Lightning Mapping Array - analyzed data\\n', 'Analysis program: /data1/thor_ori/lma_admin/lma/lma_analysis -d 20130608 -t 000000 -s 60 -l /data1/hlma/location/hstn.loc -o /data1/hlma_data/processed/080us_data/0060/130608\\n', 'Analysis program version: 10.11.1RT\\n', 'Analysis started: Mon Aug 10 03:16:04 2015\\n', 'Analysis finished: Mon Aug 10 03:16:05 2015\\n', 'Data start time: 06/08/13 00:00:00\\n', 'Number of seconds analyzed: 60\\n', 'Location: HSTN LMA 2012\\n', 'Coordinate center (lat,lon,alt): 29.7600000 -95.3700000 -200.00\\n', 'Maximum diameter of LMA (km): 204.999\\n', 'Maximum light-time across LMA (ns): 683939\\n', 'Number of stations: 13\\n', 'Number of active stations: 7\\n', 'Active stations: A B C D G H L\\n', 'Minimum number of stations per solution: 6\\n', 'Maximum reduced chi-squared: 5.00\\n', 'Maximum number of chi-squared iterations: 20\\n', 'Station information: id, name, lat(d), lon(d), alt(m), delay(ns), board_rev, rec_ch\\n', 'Sta_info: A  Cy-Fair ISD        29.9392496  -95.6461830    31.66   45 3  3\\n', 'Sta_info: B  Williams Airport   30.1573297  -95.3209820    25.82   45 3  3\\n', 'Sta_info: C  Johnson Space Center   29.5670202  -95.0984633    -2.93   45 3  3\\n', 'Sta_info: D  Sugarland          29.6196495  -95.6576330    13.21   45 3  3\\n', 'Sta_info: E  TAMU 1             30.6461624  -96.2979071    75.82   45 3  2\\n', 'Sta_info: F  Houston SW Airport   29.5050035  -95.4759368     6.89   45 3  3\\n', 'Sta_info: G  Addicks            29.7679573  -95.6452786    15.23   45 3  3\\n', 'Sta_info: H  Houston Raceway    29.7913451  -94.8828558    -5.65   45 3  3\\n', 'Sta_info: I  TAMU 2             30.6461530  -96.2979347    72.82   45 3  3\\n', 'Sta_info: J  Lone Star College   30.0019872  -95.3840389    16.11   45 3  3\\n', 'Sta_info: K  Alvin              29.4407146  -95.2733530     8.45   45 3  3\\n', 'Sta_info: L  May                30.0581256  -95.0614192    13.96   45 3  3\\n', 'Sta_info: M  Galveston          29.3159319  -94.8220593    -2.99   45 3  3\\n', 'Station data: id, name, win(us), dec_win(us), data_ver, rms_error(ns), sources, %, <P/P_m>, active\\n', 'Sta_data: A  Cy-Fair ISD         80    10   70      242 100.0  0.73   A\\n', 'Sta_data: B  Williams Airport    80    10   70      242 100.0  0.82   A\\n', 'Sta_data: C  Johnson Space Center    80    10   70      241  99.6  2.31   A\\n', 'Sta_data: D  Sugarland           80    10   70      242 100.0  1.16   A\\n', 'Sta_data: E  TAMU 1               0     0   70        0   0.0  0.00  NA\\n', 'Sta_data: F  Houston SW Airport     0     0   70        0   0.0  0.00  NA\\n', 'Sta_data: G  Addicks             80    10   70      242 100.0  1.01   A\\n', 'Sta_data: H  Houston Raceway     80    10   70      241  99.6  0.97   A\\n', 'Sta_data: I  TAMU 2               0     0   70        0   0.0  0.00  NA\\n', 'Sta_data: J  Lone Star College     0     0   70        0   0.0  0.00  NA\\n', 'Sta_data: K  Alvin                0     0   70        0   0.0  0.00  NA\\n', 'Sta_data: L  May                 80    10   70        6   2.5  1.97   A\\n', 'Sta_data: M  Galveston            0     0   70        0   0.0  0.00  NA\\n', 'Metric file version: 4\\n', 'Station mask order: MLKJIHGFEDCBA\\n', 'Data: time (UT sec of day), lat, lon, alt(m), reduced chi^2, P(dBW), mask\\n', 'Data format: 15.9f 12.8f 13.8f 9.2f 6.2f 5.1f 6x\\n', 'Number of events: 242\\n', '*** data ***\\n', '    2.144846883  28.41684014  -96.52159188  11476.80   0.61  18.1 0x00cf\\n', '    2.161037290  28.39213141  -96.54174741  14302.73   3.66  27.2 0x00cf\\n', '    2.292688219  28.46722083  -96.56015036   8471.11   0.32  18.5 0x00cf\\n', '    2.301972136  28.47951157  -96.56079844   7269.67   0.54  17.5 0x00cf\\n', '    2.312456008  28.47949799  -96.56681429   7941.87   0.29  19.2 0x00cf\\n', '    2.312559464  28.49397433  -96.55237963   9908.85   0.66  25.0 0x00cf\\n', '    2.323747462  28.49817274  -96.55528233  10615.09   1.14  14.1 0x00cf\\n', '    2.325421543  28.48570775  -96.57185639   8072.47   0.13  16.5 0x00cf\\n', '    2.334706293  28.49989791  -96.56576215   9646.98   0.08  22.0 0x00cf\\n', '    2.348067453  28.47694802  -96.59944117   6214.79   4.82  18.6 0x00cf\\n', '    2.355131695  28.50078020  -96.58396248  10535.05   0.41  18.7 0x00cf\\n', '    2.365183858  28.55223049  -96.54059916   9973.25   2.72  20.4 0x00cf\\n', '    9.586153752  28.32155684  -96.61940074  12494.73   1.13  23.5 0x00cf\\n', '    9.595976857  28.31528685  -96.61669796  11689.82   0.06  21.0 0x00cf\\n', '    9.602759999  28.27204215  -96.64611702  12540.24   0.24  22.0 0x00cf\\n', '    9.645383828  28.23562568  -96.69898043   3430.06   3.06  22.7 0x00cf\\n', '    9.675624131  28.27638054  -96.64825403   8741.23   0.06  18.1 0x00cf\\n', '    9.678292748  28.27024023  -96.65162857   9903.14   0.16  19.6 0x00cf\\n', '    9.685622057  28.30485330  -96.69268092   4351.16   1.51  18.5 0x00cf\\n', '    9.723497097  28.34941264  -96.71351301   4980.33   0.26  18.9 0x00cf\\n', '    9.737050503  28.35722437  -96.64809838  10315.13   2.55  15.3 0x00cf\\n', '    9.741096804  28.39608930  -96.61873419   6496.26   0.44  17.0 0x00cf\\n', '    9.747408101  28.31437042  -96.67770389   3369.84   4.58  17.3 0x00cf\\n', '    9.748755641  28.35972725  -96.64096367   8129.11   0.43  16.1 0x00cf\\n', '    9.756519017  28.37096065  -96.62529718   9007.86   0.29  20.4 0x00cf\\n', '    9.779176271  28.37009695  -96.61715744   6717.77   0.03  22.4 0x00cf\\n', '    9.811477932  27.85085533  -96.72002254   9019.33   0.02  21.0 0x00cf\\n', '    9.813413397  27.84636520  -96.72446028  10208.14   0.10  23.4 0x00cf\\n', '    9.945003951  27.99667208  -96.64441753  15160.94   1.85  16.4 0x00cf\\n', '    9.948207650  27.90055070  -96.69286408   8466.67   0.20  19.5 0x00cf\\n', '    9.948990735  28.01084557  -96.63342465   6978.16   0.36  18.5 0x00cf\\n', '   10.072563550  27.90860040  -96.75558191   8545.95   0.14  25.2 0x00cf\\n', '   10.078299924  28.37036134  -96.61284300  11242.99   3.22  18.8 0x00cf\\n', '   10.079053727  28.37406161  -96.61315495   8415.74   0.39  27.3 0x00cf\\n', '   10.120281285  27.90171653  -96.78081575  10664.59   0.01  25.1 0x00cf\\n', '   10.120729707  27.94897854  -96.74368446  15952.31   0.06  21.2 0x00cf\\n', '   10.415937615  27.74902198  -96.70960793  21000.33   4.51  15.7 0x00cf\\n', '   10.742777578  27.69933355  -96.85170693   5614.65   0.23  18.4 0x00cf\\n', '   12.222546854  28.39958828  -96.57265562  10948.46   1.53  21.1 0x00cf\\n', '   12.222692584  28.37476929  -96.59718490  14283.77   1.65  19.0 0x00cf\\n', '   12.227335647  28.45051057  -96.63123483   9160.98   0.03  21.3 0x00cf\\n', '   12.228753074  28.41836618  -96.55101808  12080.81   2.47  17.8 0x00cf\\n', '   12.239078320  28.38782713  -96.58252507   9344.99   0.49  20.7 0x00cf\\n', '   12.245411825  28.38867718  -96.57614168   2869.67   2.20  27.9 0x08cf\\n', '   12.247118163  28.45712860  -96.62934252  10461.75   0.05  15.4 0x00cf\\n', '   12.312783372  28.41301083  -96.53660731   8678.89   0.00  22.5 0x00cf\\n', '   12.313071105  28.41269927  -96.53689948  10819.92   1.73  19.2 0x00cf\\n', '   13.865630103  27.69580452  -96.75490488   5378.25   0.27  22.1 0x00cf\\n', '   13.888782867  27.75941459  -96.70916905   7330.92   0.45  21.5 0x00cf\\n']\n"
     ]
    }
   ],
   "source": [
    "with open('/home/mvanlier/mvanlier/lma_houston/130608/unzipped/ALLDAY_LYLOUT.dat') as myfile:\n",
    "    head = [next(myfile) for i in xrange(100)]\n",
    "print head"
   ]
  },
  {
   "cell_type": "code",
   "execution_count": null,
   "metadata": {
    "collapsed": true
   },
   "outputs": [],
   "source": []
  }
 ],
 "metadata": {
  "kernelspec": {
   "display_name": "Python 2",
   "language": "python",
   "name": "python2"
  },
  "language_info": {
   "codemirror_mode": {
    "name": "ipython",
    "version": 2
   },
   "file_extension": ".py",
   "mimetype": "text/x-python",
   "name": "python",
   "nbconvert_exporter": "python",
   "pygments_lexer": "ipython2",
   "version": "2.7.10"
  }
 },
 "nbformat": 4,
 "nbformat_minor": 0
}
