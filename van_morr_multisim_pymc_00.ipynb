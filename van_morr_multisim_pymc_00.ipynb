{
 "cells": [
  {
   "cell_type": "code",
   "execution_count": 1,
   "metadata": {
    "collapsed": true
   },
   "outputs": [],
   "source": [
    "import numpy as np\n",
    "import matplotlib\n",
    "import matplotlib.pyplot as plt\n",
    "import matplotlib.cm as cm\n",
    "import pyart.graph.cm as pcm\n",
    "import matplotlib.colors as colors\n",
    "from matplotlib import dates\n",
    "from netCDF4 import num2date,date2num,Dataset\n",
    "import matplotlib._pylab_helpers\n",
    "#from joblib import Parallel, delayed\n",
    "import os,subprocess,time,copy\n",
    "import random\n",
    "import scipy\n",
    "import math\n",
    "import matplotlib.gridspec as gridspec\n",
    "import cPickle as pickle\n",
    "#import pickle\n",
    "import pprint\n",
    "import pandas as pd\n",
    "import scipy.interpolate as interpolate\n",
    "import pymc\n",
    "import triangle\n",
    "from marcus_py_tools import make_edge_vec, walklevel\n",
    "%matplotlib inline"
   ]
  },
  {
   "cell_type": "code",
   "execution_count": 3,
   "metadata": {
    "collapsed": true
   },
   "outputs": [],
   "source": [
    "#..Load the fortran-y wrapper\n",
    "import test_fwd"
   ]
  },
  {
   "cell_type": "code",
   "execution_count": 4,
   "metadata": {
    "collapsed": false
   },
   "outputs": [
    {
     "name": "stdout",
     "output_type": "stream",
     "text": [
      "fwd_obs,fwd_obs_alt = multi_fwd_model(params,sim_params,npol,nobs_slice,nz,[nparams,nsimpar,nsims])\n",
      "\n",
      "Wrapper for ``multi_fwd_model``.\n",
      "\n",
      "Parameters\n",
      "----------\n",
      "params : input rank-1 array('f') with bounds (nparams)\n",
      "sim_params : input rank-2 array('f') with bounds (nsimpar,nsims)\n",
      "npol : input int\n",
      "nobs_slice : input int\n",
      "nz : input int\n",
      "\n",
      "Other Parameters\n",
      "----------------\n",
      "nparams : input int, optional\n",
      "    Default: len(params)\n",
      "nsimpar : input int, optional\n",
      "    Default: shape(sim_params,0)\n",
      "nsims : input int, optional\n",
      "    Default: shape(sim_params,1)\n",
      "\n",
      "Returns\n",
      "-------\n",
      "fwd_obs : rank-2 array('f') with bounds (npol*nobs_slice,nsims)\n",
      "fwd_obs_alt : rank-1 array('f') with bounds (nsims)\n",
      "\n"
     ]
    }
   ],
   "source": [
    "#..print documentation (automatically generated)\n",
    "print test_fwd.multi_fwd_model.__doc__"
   ]
  },
  {
   "cell_type": "code",
   "execution_count": 61,
   "metadata": {
    "collapsed": false
   },
   "outputs": [],
   "source": [
    "#..These are the default values in Hughbert's driver\n",
    "aqevap1=1./(3.14*1000.)**(1./3.)\n",
    "bqevap1=1./3.\n",
    "anevap1=0.5/(3.14*1000.)**(1./3.)\n",
    "bnevap1=-2./3.\n",
    "aqfall1=825./(3.14*1000.)**(0.8/3.)\n",
    "bqfall1=0.8/3.\n",
    "anfall1=600./(3.14*1000.)**(0.8/3.)\n",
    "bnfall1=0.8/3.\n",
    "acoal1=5.78 \n",
    "bcoal1=0.8   \n",
    "abreak1=1.e6 \n",
    "cpar=0.0005**3*3.14*1000.\n",
    "am6=5.\n",
    "bm6=2."
   ]
  },
  {
   "cell_type": "code",
   "execution_count": 62,
   "metadata": {
    "collapsed": false
   },
   "outputs": [
    {
     "name": "stdout",
     "output_type": "stream",
     "text": [
      "[  6.82899483e-02   3.33333333e-01   3.41449742e-02  -6.66666667e-01\n",
      "   9.63694490e+01   2.66666667e-01   7.00868720e+01   2.66666667e-01\n",
      "   5.78000000e+00   8.00000000e-01   1.00000000e+06   3.92500000e-07\n",
      "   5.00000000e+00   2.00000000e+00]\n",
      "(14,)\n",
      "(3, 5)\n"
     ]
    }
   ],
   "source": [
    "#..Set \"truth\" parameter values\n",
    "ptrue = np.array([aqevap1,  bqevap1,  anevap1,  bnevap1,   aqfall1,  bqfall1,   anfall1,   bnfall1,\n",
    "                  acoal1,   bcoal1,   abreak1,  cpar,      am6,      bm6])\n",
    "\n",
    "print ptrue\n",
    "\n",
    "#..               aqevap1  bqevap1  anevap1  bnevap1   aqfall1  bqfall1   anfall1   bnfall1  \n",
    "#ptrue = np.array([0.06829, .333333, 0.03414, .666667,  96.369,  .266667,  70.087,   .266667,\n",
    "#..               acoal1   bcoal1   abreak1  cpar      am6      bm6\n",
    "#                  5.78,    .8,      1.e6,    3.925e-7, 5.,      2.     ])\n",
    "\n",
    "#..Set up the array of simulations. Each column is a environemtal parameter, every row is a\n",
    "#..different simulation\n",
    "#..                qtop    ntop     ssub\n",
    "simpar = np.array([[10.e-3,  10.e3,    0.1],\n",
    "                   [1.e-3,   1.e3,     0.3],\n",
    "                   [10.e-3,  1.e1,     0.3],\n",
    "                   [100.e-3, 1.e2,     0.001],\n",
    "                   [10.e-3,  10.e3,    0.01]])\n",
    "simpar = simpar.T\n",
    "print ptrue.shape\n",
    "print simpar.shape\n",
    "\n",
    "#..Set up integers to pass to fortran\n",
    "nsimpar = simpar.shape[0]\n",
    "nsims   = simpar.shape[1]\n",
    "nparams = ptrue.shape[0]\n",
    "npol    = 3\n",
    "nobs_slice = 20\n",
    "nz = 20"
   ]
  },
  {
   "cell_type": "code",
   "execution_count": 63,
   "metadata": {
    "collapsed": false
   },
   "outputs": [],
   "source": [
    "#..Run the simulation\n",
    "fwd_obs,fwd_obs_alt = test_fwd.multi_fwd_model(ptrue,simpar,npol,nobs_slice,nz,nparams,nsimpar,nsims)"
   ]
  },
  {
   "cell_type": "code",
   "execution_count": 64,
   "metadata": {
    "collapsed": false
   },
   "outputs": [
    {
     "data": {
      "text/plain": [
       "<matplotlib.text.Text at 0x7fcbe10805d0>"
      ]
     },
     "execution_count": 64,
     "metadata": {},
     "output_type": "execute_result"
    },
    {
     "data": {
      "image/png": "[encoded data removed]",
      "text/plain": [
       "<matplotlib.figure.Figure at 0x7fcbe1238fd0>"
      ]
     },
     "metadata": {},
     "output_type": "display_data"
    }
   ],
   "source": [
    "#..Plot it, man!\n",
    "fwd_obs_m = copy.deepcopy(fwd_obs)\n",
    "fwd_obs_m = np.ma.masked_where(fwd_obs_m==-999.,fwd_obs_m)\n",
    "fig=plt.figure(figsize=(14,5))\n",
    "ax1=fig.add_subplot(131)\n",
    "ax1.plot(fwd_obs_m[0:nobs_slice,:],np.arange(1,nobs_slice+1,1),'g',alpha=.5)\n",
    "plt.title('ZDR')\n",
    "ax2=fig.add_subplot(132)\n",
    "ax2.plot(fwd_obs_m[nobs_slice:nobs_slice*2,:],np.arange(1,nobs_slice+1,1),'b',alpha=.5)\n",
    "ax2.plot([0.,0.],[0.,20.],'k:')\n",
    "ax2.set_xlim(-1,6)\n",
    "plt.title('KDP')\n",
    "ax3=fig.add_subplot(133)\n",
    "ax3.plot(fwd_obs_m[nobs_slice*2:,:],np.arange(1,nobs_slice+1,1),'r',alpha=.5)\n",
    "plt.title('Ze')"
   ]
  },
  {
   "cell_type": "code",
   "execution_count": null,
   "metadata": {
    "collapsed": true
   },
   "outputs": [],
   "source": [
    "#..Let us consider our prior distributions\n",
    "aqevap1 = pymc.Uniform('aqevap1',0.02,0.14)\n",
    "bqevap1 = pymc.Uniform('bqevap1',0.1,0.8)\n",
    "anevap1 = pymc.Uniform('anevap1',0.01,0.08)\n",
    "bnevap1 = pymc.Uniform('bnevap1',-1.6,-0.2)\n",
    "aqfall1 = pymc.Uniform('aqfall1',40.,200.)\n",
    "bqfall1 = pymc.Uniform('bqfall1',0.1,0.6)\n",
    "anfall1 = pymc.Uniform('anfall1',30.,150.)\n",
    "bnfall1 = pymc.Uniform('bnfall1',0.1,0.6)\n",
    "acoal1  = pymc.Uniform('acoal1',2.,12.)\n",
    "bcoal1  = pymc.Uniform('bcoal1',.4,1.6)\n",
    "abreak1 = pymc.Uniform('abreak1',5.e5,2.e6)\n",
    "cpar    = pymc.Uniform('cpar',2.e-7,8.e-7)\n",
    "am6     = pymc.Uniform('am6',1.,20.)\n",
    "bm6     = pymc.Uniform('bm6',1.7,2.3)\n",
    "\n",
    "\n",
    "\n",
    "@pymc.deterministic()\n",
    "def y_model"
   ]
  }
 ],
 "metadata": {
  "kernelspec": {
   "display_name": "Python 2",
   "language": "python",
   "name": "python2"
  },
  "language_info": {
   "codemirror_mode": {
    "name": "ipython",
    "version": 2
   },
   "file_extension": ".py",
   "mimetype": "text/x-python",
   "name": "python",
   "nbconvert_exporter": "python",
   "pygments_lexer": "ipython2",
   "version": "2.7.11"
  }
 },
 "nbformat": 4,
 "nbformat_minor": 0
}
