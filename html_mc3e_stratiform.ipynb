{
 "cells": [
  {
   "cell_type": "code",
   "execution_count": 8,
   "metadata": {
    "collapsed": true
   },
   "outputs": [],
   "source": [
    "outpath = '/home/mvanlier/mvanlier/plot_dump/kvnx_convstrat_20110520/'\n",
    "filepre = 'convstrat_follow_'\n",
    "filesuf = '.html'\n",
    "nummatch = 101\n",
    "#..\n",
    "\n",
    "content_raw = r\"\"\"<!DOCTYPE html>\n",
    "<html>\n",
    "<head>\n",
    "  <meta http-equiv=\"Content-Type\" content=\"text/html; charset=utf-8\" />\n",
    "   <meta http-equiv=\"X-UA-Compatible\" content=\"IE=Edge\"/>\n",
    "  <title>Convective/Stratiform {numstring}</title>\n",
    "<script type=\"text/javascript\" src=\"./hanis_min.js\"> </script>\n",
    "</head>\n",
    "\n",
    "<body style=\"width:600px;\" onload=\"HAniS.setup('basename = convstrat_follow_{numstring}_???.png \\n num_frames = 42 \\n base_starting_number = 000 \\n controls = startstop, speed, step, setframe, zoom \\n controls_style = display:flex;flex-flow:row; \\n buttons_style = flex:auto;margin:2px;' ,\n",
    "'handiv')\">\n",
    "\n",
    "<div id=\"handiv\" style=\"width:600px;background-color:#808080;\">\n",
    "</div>\n",
    "\n",
    "<hr>\n",
    "<font size=-1>This webapp is Copyright&copy; 2014 by Tom Whittaker\n",
    "</body>\n",
    "</html>\n",
    "\"\"\"\n",
    "\n",
    "for i in range(nummatch):\n",
    "    numstring = str(i).zfill(3)\n",
    "    contents = content_raw.format(**locals())\n",
    "    output = open(outpath+filepre+numstring+filesuf,\"w\")\n",
    "    output.write(contents)\n",
    "    output.close()"
   ]
  },
  {
   "cell_type": "code",
   "execution_count": 7,
   "metadata": {
    "collapsed": false
   },
   "outputs": [
    {
     "name": "stdout",
     "output_type": "stream",
     "text": [
      "test\n"
     ]
    }
   ],
   "source": [
    "print 'test'"
   ]
  },
  {
   "cell_type": "code",
   "execution_count": null,
   "metadata": {
    "collapsed": true
   },
   "outputs": [],
   "source": []
  }
 ],
 "metadata": {
  "kernelspec": {
   "display_name": "Python 2",
   "language": "python",
   "name": "python2"
  },
  "language_info": {
   "codemirror_mode": {
    "name": "ipython",
    "version": 2
   },
   "file_extension": ".py",
   "mimetype": "text/x-python",
   "name": "python",
   "nbconvert_exporter": "python",
   "pygments_lexer": "ipython2",
   "version": "2.7.9"
  }
 },
 "nbformat": 4,
 "nbformat_minor": 0
}
