{
 "metadata": {
  "name": ""
 },
 "nbformat": 3,
 "nbformat_minor": 0,
 "worksheets": [
  {
   "cells": [
    {
     "cell_type": "code",
     "collapsed": false,
     "input": [
      "import kdp_analyze_vol\n",
      "from netCDF4 import Dataset\n",
      "import matplotlib\n",
      "import matplotlib.pyplot as plt\n",
      "import matplotlib.cm as cm\n",
      "import numpy as np\n",
      "import copy,os\n",
      "import scipy.ndimage as ndi\n",
      "import mahotas,pymorph,pylab\n",
      "from scipy.interpolate import griddata\n",
      "import datetime\n",
      "import pandas as pd\n",
      "from pandas import DataFrame, Series\n",
      "import trackpy as tp\n",
      "import pickle\n",
      "%matplotlib inline"
     ],
     "language": "python",
     "metadata": {},
     "outputs": [],
     "prompt_number": 6
    },
    {
     "cell_type": "code",
     "collapsed": false,
     "input": [
      "def walklevel(some_dir, level=1):\n",
      "  some_dir = some_dir.rstrip(os.path.sep)\n",
      "  assert os.path.isdir(some_dir)\n",
      "  num_sep = some_dir.count(os.path.sep)\n",
      "  for root, dirs, files in os.walk(some_dir):\n",
      "    yield root, dirs, files\n",
      "    num_sep_this = root.count(os.path.sep)\n",
      "    if num_sep + level <= num_sep_this:\n",
      "      del dirs[:]"
     ],
     "language": "python",
     "metadata": {},
     "outputs": [],
     "prompt_number": 16
    },
    {
     "cell_type": "code",
     "collapsed": false,
     "input": [
      "def get_alttemp(temp,epoch,path='./',tt=.1,iteration=0,fallb=None):\n",
      "  sondefiles = []\n",
      "  epochs = []\n",
      "  numsonde   = 0\n",
      "  for root, dirs, files, in walklevel(path+'./',level=0):\n",
      "    for file in files:\n",
      "      if file.startswith('sgpsondewnpnC1'):\n",
      "        sondefiles.append(file)\n",
      "        numsonde += 1\n",
      "        epochs.append((datetime.datetime(int(file[18:22]),int(file[22:24]),int(file[24:26]),\n",
      "                                         int(file[27:29]),int(file[29:31]),int(file[31:33]))-\n",
      "                       datetime.datetime(1970,1,1)).total_seconds())\n",
      "  #np.array(epochs)\n",
      "\n",
      "  time_idx = min(range(numsonde),key=lambda i:abs(epochs[i]-epoch))\n",
      "  #print 'Found matching sonde file, index and file name follow',time_idx,sondefiles[time_idx]\n",
      "\n",
      "  nc = Dataset(path+sondefiles[time_idx],'r')\n",
      "  alt  = nc.variables['alt'][:]\n",
      "  tmpt = nc.variables['tdry'][:]\n",
      "  time = nc.variables['time'][:]\n",
      "  nc.close()\n",
      "  #..Do a check to make sure that the file has what we want\n",
      "  if ((temp < (tmpt.min()-tt)) or (temp > (tmpt.max()+tt))):\n",
      "    print 'requested value not within temperature range of sonde!'\n",
      "  else:\n",
      "    for i in range(len(time)):\n",
      "      if (abs(tmpt[i]-temp) <= tt):\n",
      "        alt_idx = i\n",
      "        return alt[alt_idx]\n",
      "\n",
      "  if iteration==0:\n",
      "    #print 'trying another sonde file'\n",
      "    if (abs(epochs[time_idx-1]-epoch) <= abs(epochs[time_idx+1]-epoch)):\n",
      "      #print 'Trying new sonde file, time and file name:',time_idx-1,sondefiles[time_idx-1]\n",
      "      return get_alttemp(temp,epochs[time_idx-1],path,tt,iteration=1,fallb=fallb)\n",
      "    else:\n",
      "      #print 'Trying new sonde file, time and file name:',time_idx+1,sondefiles[time_idx+1]\n",
      "      return get_alttemp(temp,epochs[time_idx+1],path,tt,iteration=2,fallb=fallb)\n",
      "  elif iteration==1:\n",
      "    #print 'Trying yet another sonde file, last chance!'\n",
      "    return get_alttemp(temp,epochs[time_idx+2],path,tt,iteration=3,fallb=fallb)\n",
      "  elif iteration==2:\n",
      "    #print 'Trying yet another sonde file, last chance!'\n",
      "    return get_alttemp(temp,epochs[time_idx-2],path,tt,iteration=3,fallb=fallb)\n",
      "  else:\n",
      "    if fallback:\n",
      "      tmpepoch = (datetime.datetime(int(fallb[18:22]),int(fallb[22:24]),int(fallb[24:26]),\n",
      "                                    int(fallb[27:29]),int(fallb[29:31]),int(fallb[31:33])) -\n",
      "                  datetime.datetime(1970,1,1)).total_seconds()\n",
      "      return get_alttemp(temp,tmpepoch,path,tt,iteration=3)\n",
      "    else:\n",
      "      raise NameError('NoGoodSondeFound')"
     ],
     "language": "python",
     "metadata": {},
     "outputs": [],
     "prompt_number": 17
    },
    {
     "cell_type": "code",
     "collapsed": false,
     "input": [
      "datasource  = 'nexrad'\n",
      "\n",
      "if datasource=='nexrad':\n",
      "    #..Recommended settings for find_blobs_at_level\n",
      "    threshold = 2.5  #..3.125 might be better?\n",
      "    blurval   = 1.\n",
      "    leveloff  = 2\n",
      "    levelbuff = 2\n",
      "    filepre = 'gridfull_kvnx'\n",
      "    #filepre   = 'grid1_kvnx'\n",
      "    zhhnm     = 'reflectivity'\n",
      "    zdrnm     = 'differential_reflectivity'\n",
      "    kdpnm     = 'recalculated_diff_phase'\n",
      "    rhonm     = 'cross_correlation_ratio'\n",
      "    zaxnm     = 'z_disp'"
     ],
     "language": "python",
     "metadata": {},
     "outputs": [],
     "prompt_number": 30
    },
    {
     "cell_type": "code",
     "collapsed": false,
     "input": [
      "def find_stuff_at_level(field,level,threshold,blurval,pre_thresh=None,leveloff=None,\n",
      "                        levelbuff=None,debug=False):\n",
      "  #..Takes in 3D field (field) arranged z,y,x and looks at the level=level\n",
      "  #..of alternatively, level = level+leveloff +- levelbuff.\n",
      "  #..Returns seeds, a 2D (y,x) field of object centers (local maxima)\n",
      "  #..Returns num_obj, the number of objects found\n",
      "  #..Returns field_i, the field integrated in a slab of interest\n",
      "  #..Returns field_if, the same, filtered and thresholded\n",
      "  #..Optionally, returns:\n",
      "  #..Returns obj_field, a 2D (y,x) field of blobby objects labeled from 1 to num_obj\n",
      "\n",
      "  #..If requested, remove values below pre_thresh, before integration\n",
      "  if pre_thresh:\n",
      "    field[field<pre_thresh] = 0.\n",
      "\n",
      "  #..Do integration about buffer\n",
      "  if leveloff:\n",
      "    level = level + leveloff  #..Set offset\n",
      "\n",
      "  if levelbuff:\n",
      "    field_i = np.sum(field[level-levelbuff:level+levelbuff,:,:],0)\n",
      "  else:\n",
      "    field_i = field[level,:,:]\n",
      "\n",
      "  field_ic = copy.deepcopy(field_i)\n",
      "  field_ic[field_ic<threshold] = 0.\n",
      "\n",
      "  #..Do smoothing, local max, thresholding, watershed, etc.\n",
      "  field_ic = ndi.gaussian_filter(field_ic,blurval)\n",
      "  field_if = copy.deepcopy(field_ic)/float(field_ic.ptp())*255\n",
      "  field_if = field_if.astype(np.uint8)\n",
      "  rmax     = pymorph.regmax(field_if)\n",
      "  seeds,num_obj = ndi.label(rmax)\n",
      "  T = mahotas.thresholding.otsu(field_if)\n",
      "  dist = ndi.distance_transform_edt(field_if > T)\n",
      "  dist = dist.max() - dist\n",
      "  dist -= dist.min()\n",
      "  dist = dist/float(dist.ptp())*255\n",
      "  dist = dist.astype(np.uint8)\n",
      "  obj_field = pymorph.cwatershed(dist,seeds)\n",
      "  sm_seed = copy.deepcopy(seeds)\n",
      "  sm_seed[sm_seed>0] = 200\n",
      "  sm_seed = ndi.gaussian_filter(sm_seed,2)    #..Note that blur value here != blurval\n",
      "  sm_seed = sm_seed/float(sm_seed.ptp())*255\n",
      "  sm_seed = sm_seed.astype(np.uint8)\n",
      "\n",
      "  if debug:\n",
      "    return seeds,num_obj,field_i,field_ic,sm_seed\n",
      "  else:\n",
      "    return obj_field,num_obj,field_i,field_ic\n"
     ],
     "language": "python",
     "metadata": {},
     "outputs": [],
     "prompt_number": 18
    },
    {
     "cell_type": "heading",
     "level": 3,
     "metadata": {},
     "source": [
      "Find KDP objects"
     ]
    },
    {
     "cell_type": "markdown",
     "metadata": {},
     "source": [
      "Look for kdp objects at all times on the specified day. Save objects and integrated kdp for use with blob tracking in pytrack. Note KDP objects are defined as KDP presence above the melting layer"
     ]
    },
    {
     "cell_type": "code",
     "collapsed": false,
     "input": [
      "\n",
      "day = '0523'\n",
      "#day = '0520'\n",
      "\n",
      "if day=='0425':\n",
      "    fallb='sgpsondewnpnC1.b1.20110425.023000.cdf'\n",
      "    daytext = 'April 25'\n",
      "elif day=='0520':\n",
      "    fallb='sgpsondewnpnC1.b1.20110520.023000.cdf'\n",
      "    daytext = 'May 20'\n",
      "elif day=='0523':\n",
      "    fallb='sgpsondewnpnC1.b1.20110523.172800.cdf'\n",
      "    daytext = 'May 23'\n",
      "elif day=='0524':\n",
      "    fallb='sgpsondewnpnC1.b1.20110524.202200.cdf'\n",
      "    daytext = 'May 24'\n",
      "#..Get list of files\n",
      "radfiles = []\n",
      "numfiles = 0\n",
      "for root,dirs,files in walklevel('./',level=0):\n",
      "    for file in files:\n",
      "        if file.startswith(filepre):\n",
      "            radfiles.append(file)\n",
      "            numfiles +=1\n",
      "print numfiles\n",
      "\n",
      "nc = Dataset(radfiles[0],'r')\n",
      "xd = nc.variables['x_disp'][:]\n",
      "yd = nc.variables['y_disp'][:]\n",
      "nc.close()\n",
      "#..Loop over files, get melting layer and getting stuff with find_stuff_at_level\n",
      "kdpif_frames = np.zeros((numfiles,len(yd),len(xd)))\n",
      "kdpi_frames = np.zeros((numfiles,len(yd),len(xd)))\n",
      "seeds_frames = np.zeros((numfiles,len(yd),len(xd)))\n",
      "smseed_frames = np.zeros((numfiles,len(yd),len(xd)))\n",
      "\n",
      "for i in range(numfiles):\n",
      "    filnm = radfiles[i]\n",
      "    print filnm\n",
      "    #..Load radar fields\n",
      "    nc = Dataset(filnm,'r')\n",
      "    #..Get dimensions\n",
      "    xd = nc.variables['x_disp'][:]\n",
      "    yd = nc.variables['y_disp'][:]\n",
      "    zd = nc.variables[zaxnm][:]\n",
      "    kdp_atz = np.zeros(zd.shape[0])\n",
      "    zdr_atz = np.zeros(zd.shape[0])\n",
      "    #..Make vectors of cell edges\n",
      "    xe = np.zeros(len(xd)+1)\n",
      "    ye = np.zeros(len(yd)+1)\n",
      "    ze = np.zeros(len(zd)+1)\n",
      "    xe[0] = xd[0]-.5*(xd[1]-xd[0])\n",
      "    ye[0] = yd[0]-.5*(yd[1]-yd[0])\n",
      "    ze[0] = zd[0]-.5*(zd[1]-zd[0])\n",
      "    xe[len(xd)] = xd[-1]+.5*(xd[-1] - xd[-2])\n",
      "    ye[len(yd)] = yd[-1]+.5*(yd[-1] - yd[-2])\n",
      "    ze[len(zd)] = zd[-1]+.5*(zd[-1] - zd[-2])\n",
      "    for j in range(1,len(xd)):\n",
      "        xe[j] = .5*(xd[j]+xd[j-1])\n",
      "    for j in range(1,len(yd)):\n",
      "        ye[j] = .5*(yd[j]+yd[j-1])\n",
      "    for j in range(1,len(zd)):\n",
      "        ze[j] = .5*(zd[j]+zd[j-1])\n",
      "    #..Get fields\n",
      "    zhh = nc.variables[zhhnm][0,:,:,:]\n",
      "    zdr = nc.variables[zdrnm][0,:,:,:]\n",
      "    kdp = nc.variables[kdpnm][0,:,:,:]\n",
      "    rho = nc.variables[rhonm][0,:,:,:]\n",
      "    #..Zero zhh,zdr where rho<minrho\n",
      "    if False:\n",
      "        zdr[rho<minrho] = 0.\n",
      "        kdp[rho<minrho] = 0.\n",
      "    nc.close()       \n",
      "    #..Get melting altitude and corresponding vertical level in radar data\n",
      "    epoc  = (datetime.datetime(int(filnm[-18:-14]),int(filnm[-14:-12]),int(filnm[-12:-10]),\n",
      "                               int(filnm[-9:-7]),int(filnm[-7:-5]),int(filnm[-5:-3])) -\n",
      "             datetime.datetime(1970,1,1)).total_seconds()\n",
      "    #..Get melting layer height\n",
      "    #altmelt = get_alttemp(0.,epoc,path='/Users/mvanlier/mvanlier/c1_soundings/',\n",
      "    altmelt = get_alttemp(0.,epoc,path='/Volumes/virgaDATA/Data/c1_soundings/',\n",
      "                          fallb=fallb)\n",
      "    #print 'altmelt = ',altmelt\n",
      "    meltlev = min(range(len(zd)),key=lambda i:abs(zd[i]-altmelt))\n",
      "    #print 'meltlev = ',meltlev\n",
      "    #..Get location of maxima and filtered field using find_stuff_at_level\n",
      "    kdp_seeds,nobj,kdpi,kdpif,smseed = find_stuff_at_level(kdp,meltlev,threshold,blurval,\n",
      "                                                    leveloff = 2,\n",
      "                                                    levelbuff= 2,\n",
      "                                                    debug = True)\n",
      "    kdpif_frames[i] = kdpif\n",
      "    kdpi_frames[i] = kdpi\n",
      "    seeds_frames[i] = kdp_seeds\n",
      "    smseed_frames[i] = smseed\n",
      "    print nobj\n",
      "\n"
     ],
     "language": "python",
     "metadata": {},
     "outputs": [
      {
       "output_type": "stream",
       "stream": "stdout",
       "text": [
        "56\n",
        "gridfull_kvnx_20110523_200109.nc"
       ]
      },
      {
       "output_type": "stream",
       "stream": "stdout",
       "text": [
        "\n",
        "6"
       ]
      },
      {
       "output_type": "stream",
       "stream": "stdout",
       "text": [
        "\n",
        "gridfull_kvnx_20110523_200529.nc\n",
        "7"
       ]
      },
      {
       "output_type": "stream",
       "stream": "stdout",
       "text": [
        "\n",
        "gridfull_kvnx_20110523_200948.nc\n",
        "15"
       ]
      },
      {
       "output_type": "stream",
       "stream": "stdout",
       "text": [
        "\n",
        "gridfull_kvnx_20110523_201408.nc\n",
        "5"
       ]
      },
      {
       "output_type": "stream",
       "stream": "stdout",
       "text": [
        "\n",
        "gridfull_kvnx_20110523_201827.nc\n",
        "4"
       ]
      },
      {
       "output_type": "stream",
       "stream": "stdout",
       "text": [
        "\n",
        "gridfull_kvnx_20110523_202247.nc\n",
        "13"
       ]
      },
      {
       "output_type": "stream",
       "stream": "stdout",
       "text": [
        "\n",
        "gridfull_kvnx_20110523_202708.nc\n",
        "4"
       ]
      },
      {
       "output_type": "stream",
       "stream": "stdout",
       "text": [
        "\n",
        "gridfull_kvnx_20110523_203126.nc\n",
        "5"
       ]
      },
      {
       "output_type": "stream",
       "stream": "stdout",
       "text": [
        "\n",
        "gridfull_kvnx_20110523_203545.nc\n",
        "1"
       ]
      },
      {
       "output_type": "stream",
       "stream": "stdout",
       "text": [
        "\n",
        "gridfull_kvnx_20110523_204005.nc\n",
        "4"
       ]
      },
      {
       "output_type": "stream",
       "stream": "stdout",
       "text": [
        "\n",
        "gridfull_kvnx_20110523_204426.nc\n",
        "5"
       ]
      },
      {
       "output_type": "stream",
       "stream": "stdout",
       "text": [
        "\n",
        "gridfull_kvnx_20110523_204845.nc\n",
        "2"
       ]
      },
      {
       "output_type": "stream",
       "stream": "stdout",
       "text": [
        "\n",
        "gridfull_kvnx_20110523_205303.nc\n",
        "6"
       ]
      },
      {
       "output_type": "stream",
       "stream": "stdout",
       "text": [
        "\n",
        "gridfull_kvnx_20110523_205723.nc\n",
        "1"
       ]
      },
      {
       "output_type": "stream",
       "stream": "stdout",
       "text": [
        "\n",
        "gridfull_kvnx_20110523_210143.nc\n",
        "8"
       ]
      },
      {
       "output_type": "stream",
       "stream": "stdout",
       "text": [
        "\n",
        "gridfull_kvnx_20110523_210602.nc\n",
        "1"
       ]
      },
      {
       "output_type": "stream",
       "stream": "stdout",
       "text": [
        "\n",
        "gridfull_kvnx_20110523_211022.nc\n",
        "0"
       ]
      },
      {
       "output_type": "stream",
       "stream": "stdout",
       "text": [
        "\n",
        "gridfull_kvnx_20110523_211442.nc\n",
        "6"
       ]
      },
      {
       "output_type": "stream",
       "stream": "stdout",
       "text": [
        "\n",
        "gridfull_kvnx_20110523_211904.nc\n",
        "11"
       ]
      },
      {
       "output_type": "stream",
       "stream": "stdout",
       "text": [
        "\n",
        "gridfull_kvnx_20110523_212325.nc\n",
        "6"
       ]
      },
      {
       "output_type": "stream",
       "stream": "stdout",
       "text": [
        "\n",
        "gridfull_kvnx_20110523_212745.nc\n",
        "7"
       ]
      },
      {
       "output_type": "stream",
       "stream": "stdout",
       "text": [
        "\n",
        "gridfull_kvnx_20110523_213204.nc\n",
        "15"
       ]
      },
      {
       "output_type": "stream",
       "stream": "stdout",
       "text": [
        "\n",
        "gridfull_kvnx_20110523_213624.nc\n",
        "12"
       ]
      },
      {
       "output_type": "stream",
       "stream": "stdout",
       "text": [
        "\n",
        "gridfull_kvnx_20110523_214042.nc\n",
        "20"
       ]
      },
      {
       "output_type": "stream",
       "stream": "stdout",
       "text": [
        "\n",
        "gridfull_kvnx_20110523_214502.nc\n",
        "15"
       ]
      },
      {
       "output_type": "stream",
       "stream": "stdout",
       "text": [
        "\n",
        "gridfull_kvnx_20110523_214922.nc\n",
        "21"
       ]
      },
      {
       "output_type": "stream",
       "stream": "stdout",
       "text": [
        "\n",
        "gridfull_kvnx_20110523_215341.nc\n",
        "17"
       ]
      },
      {
       "output_type": "stream",
       "stream": "stdout",
       "text": [
        "\n",
        "gridfull_kvnx_20110523_215800.nc\n",
        "30"
       ]
      },
      {
       "output_type": "stream",
       "stream": "stdout",
       "text": [
        "\n",
        "gridfull_kvnx_20110523_220220.nc\n",
        "30"
       ]
      },
      {
       "output_type": "stream",
       "stream": "stdout",
       "text": [
        "\n",
        "gridfull_kvnx_20110523_220641.nc\n",
        "26"
       ]
      },
      {
       "output_type": "stream",
       "stream": "stdout",
       "text": [
        "\n",
        "gridfull_kvnx_20110523_221102.nc\n",
        "27"
       ]
      },
      {
       "output_type": "stream",
       "stream": "stdout",
       "text": [
        "\n",
        "gridfull_kvnx_20110523_221521.nc\n",
        "17"
       ]
      },
      {
       "output_type": "stream",
       "stream": "stdout",
       "text": [
        "\n",
        "gridfull_kvnx_20110523_221941.nc\n",
        "18"
       ]
      },
      {
       "output_type": "stream",
       "stream": "stdout",
       "text": [
        "\n",
        "gridfull_kvnx_20110523_222400.nc\n",
        "11"
       ]
      },
      {
       "output_type": "stream",
       "stream": "stdout",
       "text": [
        "\n",
        "gridfull_kvnx_20110523_222821.nc\n",
        "19"
       ]
      },
      {
       "output_type": "stream",
       "stream": "stdout",
       "text": [
        "\n",
        "gridfull_kvnx_20110523_223241.nc\n",
        "16"
       ]
      },
      {
       "output_type": "stream",
       "stream": "stdout",
       "text": [
        "\n",
        "gridfull_kvnx_20110523_223659.nc\n",
        "14"
       ]
      },
      {
       "output_type": "stream",
       "stream": "stdout",
       "text": [
        "\n",
        "gridfull_kvnx_20110523_224118.nc\n",
        "10"
       ]
      },
      {
       "output_type": "stream",
       "stream": "stdout",
       "text": [
        "\n",
        "gridfull_kvnx_20110523_224537.nc\n",
        "16"
       ]
      },
      {
       "output_type": "stream",
       "stream": "stdout",
       "text": [
        "\n",
        "gridfull_kvnx_20110523_224959.nc\n",
        "15"
       ]
      },
      {
       "output_type": "stream",
       "stream": "stdout",
       "text": [
        "\n",
        "gridfull_kvnx_20110523_225418.nc\n",
        "14"
       ]
      },
      {
       "output_type": "stream",
       "stream": "stdout",
       "text": [
        "\n",
        "gridfull_kvnx_20110523_225836.nc\n",
        "17"
       ]
      },
      {
       "output_type": "stream",
       "stream": "stdout",
       "text": [
        "\n",
        "gridfull_kvnx_20110523_230254.nc\n",
        "26"
       ]
      },
      {
       "output_type": "stream",
       "stream": "stdout",
       "text": [
        "\n",
        "gridfull_kvnx_20110523_230713.nc\n",
        "22"
       ]
      },
      {
       "output_type": "stream",
       "stream": "stdout",
       "text": [
        "\n",
        "gridfull_kvnx_20110523_231131.nc\n",
        "28"
       ]
      },
      {
       "output_type": "stream",
       "stream": "stdout",
       "text": [
        "\n",
        "gridfull_kvnx_20110523_231550.nc\n",
        "27"
       ]
      },
      {
       "output_type": "stream",
       "stream": "stdout",
       "text": [
        "\n",
        "gridfull_kvnx_20110523_232010.nc\n",
        "23"
       ]
      },
      {
       "output_type": "stream",
       "stream": "stdout",
       "text": [
        "\n",
        "gridfull_kvnx_20110523_232429.nc\n",
        "24"
       ]
      },
      {
       "output_type": "stream",
       "stream": "stdout",
       "text": [
        "\n",
        "gridfull_kvnx_20110523_232848.nc\n",
        "33"
       ]
      },
      {
       "output_type": "stream",
       "stream": "stdout",
       "text": [
        "\n",
        "gridfull_kvnx_20110523_233308.nc\n",
        "29"
       ]
      },
      {
       "output_type": "stream",
       "stream": "stdout",
       "text": [
        "\n",
        "gridfull_kvnx_20110523_233727.nc\n",
        "25"
       ]
      },
      {
       "output_type": "stream",
       "stream": "stdout",
       "text": [
        "\n",
        "gridfull_kvnx_20110523_234146.nc\n",
        "14"
       ]
      },
      {
       "output_type": "stream",
       "stream": "stdout",
       "text": [
        "\n",
        "gridfull_kvnx_20110523_234605.nc\n",
        "15"
       ]
      },
      {
       "output_type": "stream",
       "stream": "stdout",
       "text": [
        "\n",
        "gridfull_kvnx_20110523_235024.nc\n",
        "17"
       ]
      },
      {
       "output_type": "stream",
       "stream": "stdout",
       "text": [
        "\n",
        "gridfull_kvnx_20110523_235443.nc\n",
        "24"
       ]
      },
      {
       "output_type": "stream",
       "stream": "stdout",
       "text": [
        "\n",
        "gridfull_kvnx_20110523_235903.nc\n",
        "11"
       ]
      },
      {
       "output_type": "stream",
       "stream": "stdout",
       "text": [
        "\n"
       ]
      }
     ],
     "prompt_number": 8
    },
    {
     "cell_type": "code",
     "collapsed": false,
     "input": [
      "reverse = False"
     ],
     "language": "python",
     "metadata": {},
     "outputs": [],
     "prompt_number": 4
    },
    {
     "cell_type": "code",
     "collapsed": false,
     "input": [
      "if reverse:\n",
      "    f = tp.batch(np.flipud(smseed_frames),5,minmass=1)\n",
      "    t = tp.link_df(f,7,memory=2)\n",
      "    t.save('reversed_paths.pkl')\n",
      "else:\n",
      "    f = tp.batch(smseed_frames,5,minmass=1)\n",
      "    t = tp.link_df(f,7,memory=2)\n",
      "    t.save('unfiltered_paths.pkl')"
     ],
     "language": "python",
     "metadata": {},
     "outputs": [
      {
       "output_type": "stream",
       "stream": "stdout",
       "text": [
        "Frame 123: 13 trajectories present\n"
       ]
      },
      {
       "output_type": "stream",
       "stream": "stderr",
       "text": [
        "/Users/mvanlier/anaconda/envs/pyart_new3/lib/python2.7/site-packages/pandas/core/generic.py:922: FutureWarning: save is deprecated, use to_pickle\n",
        "  warnings.warn(\"save is deprecated, use to_pickle\", FutureWarning)\n"
       ]
      }
     ],
     "prompt_number": 9
    },
    {
     "cell_type": "code",
     "collapsed": false,
     "input": [
      "if reverse:\n",
      "    #t =pickle.load(open('reversed_paths.pkl','rb'))\n",
      "    t =pickle.load(open('/home/mvanlier/mvanlier/nexrad_kvnx_520/reversed_paths.pkl','rb'))\n",
      "else:\n",
      "    #t =pickle.load(open('unfiltered_paths.pkl','rb'))\n",
      "    t =pickle.load(open('/home/mvanlier/mvanlier/nexrad_kvnx_520/unfiltered_paths.pkl','rb'))"
     ],
     "language": "python",
     "metadata": {},
     "outputs": [],
     "prompt_number": 7
    },
    {
     "cell_type": "code",
     "collapsed": false,
     "input": [
      "fig = plt.figure(figsize=(11,7))\n",
      "tp.plot_traj(t)"
     ],
     "language": "python",
     "metadata": {},
     "outputs": [
      {
       "metadata": {},
       "output_type": "display_data",
       "png": "[encoded data removed]",
       "text": [
        "<matplotlib.figure.Figure at 0x1f59510>"
       ]
      },
      {
       "metadata": {},
       "output_type": "pyout",
       "prompt_number": 8,
       "text": [
        "<matplotlib.axes.AxesSubplot at 0x1f59490>"
       ]
      }
     ],
     "prompt_number": 8
    },
    {
     "cell_type": "code",
     "collapsed": false,
     "input": [
      "if reverse:\n",
      "    tr = t.reindex( index=t.index[ ::-1 ] )"
     ],
     "language": "python",
     "metadata": {},
     "outputs": [
      {
       "metadata": {},
       "output_type": "display_data",
       "png": "[encoded data removed]",
       "text": [
        "<matplotlib.figure.Figure at 0x10d34f550>"
       ]
      },
      {
       "metadata": {},
       "output_type": "pyout",
       "prompt_number": 12,
       "text": [
        "<matplotlib.axes.AxesSubplot at 0x10cf83690>"
       ]
      }
     ],
     "prompt_number": 12
    },
    {
     "cell_type": "code",
     "collapsed": false,
     "input": [
      "if reverse:\n",
      "    t1 = tp.filter_stubs(tr,5)\n",
      "    tr['particle'].nunique(), t1['particle'].nunique()\n",
      "    t1.frame=numfiles-t1.frame\n",
      "else:\n",
      "    t1 = tp.filter_stubs(t,5)\n",
      "    t['particle'].nunique(), t1['particle'].nunique()"
     ],
     "language": "python",
     "metadata": {},
     "outputs": [],
     "prompt_number": 9
    },
    {
     "cell_type": "code",
     "collapsed": false,
     "input": [
      "fig = plt.figure(figsize=(11,7))\n",
      "tp.plot_traj(t1,label=True)"
     ],
     "language": "python",
     "metadata": {},
     "outputs": [
      {
       "metadata": {},
       "output_type": "display_data",
       "png": "[encoded data removed]",
       "text": [
        "<matplotlib.figure.Figure at 0x407a7d0>"
       ]
      },
      {
       "metadata": {},
       "output_type": "pyout",
       "prompt_number": 10,
       "text": [
        "<matplotlib.axes.AxesSubplot at 0x407a690>"
       ]
      }
     ],
     "prompt_number": 10
    }
   ],
   "metadata": {}
  }
 ]
}