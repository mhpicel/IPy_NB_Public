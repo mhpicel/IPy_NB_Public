{
 "cells": [
  {
   "cell_type": "code",
   "execution_count": 1,
   "metadata": {
    "collapsed": false
   },
   "outputs": [],
   "source": [
    "import numpy as np\n",
    "import matplotlib.pyplot as plt\n",
    "import matplotlib.cm as cm\n",
    "from netCDF4 import num2date,date2num,Dataset\n",
    "import scipy,matplotlib\n",
    "import pyart\n",
    "import copy\n",
    "import os, subprocess, time\n",
    "from joblib import Parallel, delayed\n",
    "import datetime\n",
    "from marcus_py_tools import walklevel,latlon_from_xy\n",
    "%matplotlib inline"
   ]
  },
  {
   "cell_type": "code",
   "execution_count": 2,
   "metadata": {
    "collapsed": true
   },
   "outputs": [],
   "source": [
    "alt_melt_020130608 = 4572. #..This is roughly the same for 6/19 as well"
   ]
  },
  {
   "cell_type": "code",
   "execution_count": 3,
   "metadata": {
    "collapsed": false
   },
   "outputs": [],
   "source": [
    "#..with doing kdp\n",
    "def nexrad_to_gridnc(filenm1,path='./',extend_melt=False,newpre='grid02_khgx_',alt_rad=4000.):\n",
    "\n",
    "    radarraw  = pyart.io.read_nexrad_archive(path+filenm1)\n",
    "#   nswp      = radarraw.nsweeps\n",
    "#   swp_arr   = range(nswp)\n",
    "#   swp_arr.remove(1)\n",
    "#   swp_arr.remove(3)\n",
    "#   swp_arr.remove(5)\n",
    "#   print swp_arr\n",
    "#   radarobsall = radarraw.extract_sweeps(swp_arr)\n",
    "    radarobsall = radarraw\n",
    "\n",
    "\n",
    "    ref_name    = 'reflectivity'\n",
    "    dphase_name = 'differential_phase'\n",
    "    rho_name    = 'cross_correlation_ratio'\n",
    "    zdr_name    = 'differential_reflectivity'\n",
    "    kdp_name    = 'kdp'\n",
    "    dphase_rname= 'phidp'\n",
    "    filenm=filenm1\n",
    "\n",
    "    rad_epoc = (datetime.datetime(int(filenm[4:8]),int(filenm[8:10]),int(filenm[10:12]),\n",
    "                           int(filenm[13:15]),int(filenm[15:17]),int(filenm[17:19])) -\n",
    "              datetime.datetime(1970,1,1)).total_seconds()\n",
    "\n",
    "\n",
    "    if extend_melt:\n",
    "        alt_rad += 3000.    #..Relax melting-layer assumption to allow for lofted rain\n",
    "    else:\n",
    "        pass\n",
    "\n",
    "    print '........................'\n",
    "\n",
    "    #..Fix KDP\n",
    "    #coh_pwr=copy.deepcopy(radarobsall.fields['PHI'])\n",
    "    coh_pwr=copy.deepcopy(radarobsall.fields[dphase_name])\n",
    "    coh_pwr['data'] = coh_pwr['data']*0.+1.\n",
    "    radarobsall.fields['norm_coherent_power'] = coh_pwr\n",
    "    phidp,kdp = pyart.correct.phase_proc_lp(radarobsall,0.0,\n",
    "                                          refl_field=ref_name,\n",
    "                                          LP_solver='cylp',\n",
    "                                          ncp_field='norm_coherent_power',\n",
    "                                          rhv_field=rho_name,\n",
    "                                          phidp_field=dphase_name,\n",
    "                                          fzl = alt_rad,\n",
    "                                          coef=.87,\n",
    "                                          low_z=25.)\n",
    "    radarobsall.fields[dphase_rname] = phidp\n",
    "    radarobsall.fields[kdp_name] = kdp\n",
    "\n",
    "    print 'done with LP phase correction!'\n",
    "\n",
    "    #..Do gridding\n",
    "    #newpre = 'gridfalt_kvnx_'\n",
    "    #newpre = 'grid1_kvnx_'\n",
    "    newmid = filenm1[4:19]\n",
    "\n",
    "    radarobs = (radarobsall,)\n",
    "\n",
    "    grid_ref = pyart.map.grid_from_radars(radarobsall,(30,400,400),\n",
    "                       ((0.,15000.),(-200000.,200000.),(-200000.,200000.)),\n",
    "                       fields=[rho_name,ref_name,zdr_name,dphase_rname,kdp_name],\n",
    "                       refl_field=ref_name,roi_func='dist_beam',\n",
    "                       h_factor=0.,nb=0.6,bsp=1.,min_radius=200.)     #..New (post 4/10/2016) settings 02\n",
    "                       #h_factor=0.,nb=0.5,bsp=1.,min_radius=100.)    #..New (post 4/6/2016) settings 01\n",
    "                       #h_factor=.8,nb=1.2,bsp=.8)   #..Old (pre 4/6/2016) settings\n",
    "                       #roi_func='dist_beam')   #..Remove for earlier versions of pyart\n",
    "\n",
    "    print 'done with gridding!'\n",
    "\n",
    "    pyart.io.write_grid(path+newpre+newmid+'.nc',grid_ref,'NETCDF4')\n",
    "\n",
    "    print 'done writing grid to netcdf'"
   ]
  },
  {
   "cell_type": "code",
   "execution_count": 4,
   "metadata": {
    "collapsed": false
   },
   "outputs": [],
   "source": [
    "def gridthemall(numjobs,path='./',alt_rad=4000.,startstr='KVNX2011',out_pre='grid2_kvnx',ex_mlt=False):\n",
    "    wsrfiles = []\n",
    "    numfiles = 0\n",
    "    for root,dirs,files in walklevel(path):\n",
    "        for file in files:\n",
    "            if file.startswith(startstr):\n",
    "                wsrfiles.append(file)\n",
    "                numfiles += 1\n",
    "\n",
    "    #..Run for multiple processors\n",
    "    Parallel(n_jobs=numjobs, \n",
    "             verbose=5)(delayed(nexrad_to_gridnc)(wsrfiles[i],path=path,\n",
    "                                                  newpre=out_pre,alt_rad=alt_rad,\n",
    "                                                 extend_melt=ex_mlt) for i in range(numfiles))\n",
    "\n",
    "    print 'all done!'"
   ]
  },
  {
   "cell_type": "code",
   "execution_count": null,
   "metadata": {
    "collapsed": false
   },
   "outputs": [
    {
     "name": "stdout",
     "output_type": "stream",
     "text": [
      "........................\n",
      "........................\n",
      "........................\n"
     ]
    },
    {
     "name": "stderr",
     "output_type": "stream",
     "text": [
      "/home/mvanlier/anaconda/lib/python2.7/site-packages/pyart/correct/phase_proc.py:189: RuntimeWarning: invalid value encountered in divide\n",
      "  return abs(signal) / noise\n",
      "/home/mvanlier/anaconda/lib/python2.7/site-packages/pyart/correct/phase_proc.py:435: RuntimeWarning: invalid value encountered in less\n",
      "  my_rhv[radial, :] < rhohv_lev), my_snr < 10.0)\n",
      "/home/mvanlier/anaconda/lib/python2.7/site-packages/pyart/correct/phase_proc.py:189: RuntimeWarning: invalid value encountered in divide\n",
      "  return abs(signal) / noise\n",
      "/home/mvanlier/anaconda/lib/python2.7/site-packages/pyart/correct/phase_proc.py:435: RuntimeWarning: invalid value encountered in less\n",
      "  my_rhv[radial, :] < rhohv_lev), my_snr < 10.0)\n"
     ]
    },
    {
     "name": "stdout",
     "output_type": "stream",
     "text": [
      "........................\n"
     ]
    },
    {
     "name": "stderr",
     "output_type": "stream",
     "text": [
      "/home/mvanlier/anaconda/lib/python2.7/site-packages/pyart/correct/phase_proc.py:189: RuntimeWarning: invalid value encountered in divide\n",
      "  return abs(signal) / noise\n",
      "/home/mvanlier/anaconda/lib/python2.7/site-packages/pyart/correct/phase_proc.py:435: RuntimeWarning: invalid value encountered in less\n",
      "  my_rhv[radial, :] < rhohv_lev), my_snr < 10.0)\n"
     ]
    },
    {
     "name": "stdout",
     "output_type": "stream",
     "text": [
      "........................\n"
     ]
    },
    {
     "name": "stderr",
     "output_type": "stream",
     "text": [
      "/home/mvanlier/anaconda/lib/python2.7/site-packages/pyart/correct/phase_proc.py:189: RuntimeWarning: divide by zero encountered in divide\n",
      "  return abs(signal) / noise\n",
      "/home/mvanlier/anaconda/lib/python2.7/site-packages/pyart/correct/phase_proc.py:189: RuntimeWarning: invalid value encountered in divide\n",
      "  return abs(signal) / noise\n",
      "/home/mvanlier/anaconda/lib/python2.7/site-packages/pyart/correct/phase_proc.py:435: RuntimeWarning: invalid value encountered in less\n",
      "  my_rhv[radial, :] < rhohv_lev), my_snr < 10.0)\n",
      "/home/mvanlier/anaconda/lib/python2.7/site-packages/pyart/correct/phase_proc.py:189: RuntimeWarning: divide by zero encountered in divide\n",
      "  return abs(signal) / noise\n",
      "/home/mvanlier/anaconda/lib/python2.7/site-packages/pyart/correct/phase_proc.py:189: RuntimeWarning: invalid value encountered in divide\n",
      "  return abs(signal) / noise\n",
      "/home/mvanlier/anaconda/lib/python2.7/site-packages/pyart/correct/phase_proc.py:435: RuntimeWarning: invalid value encountered in less\n",
      "  my_rhv[radial, :] < rhohv_lev), my_snr < 10.0)\n",
      "/home/mvanlier/anaconda/lib/python2.7/site-packages/pyart/correct/phase_proc.py:189: RuntimeWarning: divide by zero encountered in divide\n",
      "  return abs(signal) / noise\n",
      "/home/mvanlier/anaconda/lib/python2.7/site-packages/pyart/correct/phase_proc.py:189: RuntimeWarning: divide by zero encountered in divide\n",
      "  return abs(signal) / noise\n",
      "/home/mvanlier/anaconda/lib/python2.7/site-packages/pyart/correct/phase_proc.py:189: RuntimeWarning: divide by zero encountered in divide\n",
      "  return abs(signal) / noise\n"
     ]
    }
   ],
   "source": [
    "#gridthemall(5,path='/mnt/raid/mvanlier/nexrad_kvnx_524/')\n",
    "#gridthemall(5,path='/mnt/raid/mvanlier/nexrad_kvnx_523/')\n",
    "#gridthemall(5,path='/mnt/raid/mvanlier/nexrad_kvnx_425/latedata/')\n",
    "#gridthemall(5,path='/mnt/raid/mvanlier/nexrad_kvnx_520/stage_data_after15UTC/')\n",
    "#gridthemall(5,path='/mnt/raid/mvanlier/nexrad_gua_20150515/')\n",
    "#gridthemall(5,path='/mnt/raid/mvanlier/nexrad_khgx/20130608/',alt_rad=10000.)\n",
    "gridthemall(5,path='/mnt/raid/mvanlier/nexrad_khgx/20130619/0002/',startstr='KHGX2013',alt_rad=10000.,\n",
    "            out_pre='grid01_khgx_')\n",
    "#gridthemall(5,path='/mnt/raid/mvanlier/nexrad_khgx/20130619/0002/',alt_rad=10000.)\n",
    "#gridthemall(5,path='/mnt/raid/mvanlier/nexrad_khgx/20130722/',alt_rad=10000.)\n",
    "#.."
   ]
  },
  {
   "cell_type": "code",
   "execution_count": null,
   "metadata": {
    "collapsed": false
   },
   "outputs": [],
   "source": [
    "gridthemall(5,path='/mnt/raid/mvanlier/nexrad_kvnx_520/latedata/',alt_rad=10000.,startstr='KVNX20110520',\n",
    "            out_pre='grid2_kvnx')"
   ]
  },
  {
   "cell_type": "code",
   "execution_count": null,
   "metadata": {
    "collapsed": false
   },
   "outputs": [],
   "source": [
    "print 'test'"
   ]
  },
  {
   "cell_type": "code",
   "execution_count": 10,
   "metadata": {
    "collapsed": false
   },
   "outputs": [
    {
     "name": "stdout",
     "output_type": "stream",
     "text": [
      "[0, 2, 4, 6, 7, 8, 9, 10, 11, 12, 13, 14, 15, 16]\n",
      "........................\n",
      "done with LP phase correction!\n",
      "done with gridding!\n",
      "done writing grid to netcdf\n"
     ]
    },
    {
     "name": "stderr",
     "output_type": "stream",
     "text": [
      "/home/mvanlier/anaconda/lib/python2.7/site-packages/pyart/correct/phase_proc.py:187: RuntimeWarning: invalid value encountered in divide\n",
      "  return abs(signal) / noise\n",
      "/home/mvanlier/anaconda/lib/python2.7/site-packages/pyart/correct/phase_proc.py:433: RuntimeWarning: invalid value encountered in less\n",
      "  my_rhv[radial, :] < rhohv_lev), my_snr < 10.0)\n"
     ]
    }
   ],
   "source": [
    "nexrad_to_gridnc('KVNX20110520_112410_V06',path='/mnt/raid/mvanlier/nexrad_kvnx_520/',extend_melt=True)"
   ]
  },
  {
   "cell_type": "code",
   "execution_count": 10,
   "metadata": {
    "collapsed": false
   },
   "outputs": [],
   "source": [
    "filepre  = 'grid00_khgx'\n",
    "basepath = '/home/mvanlier/mvanlier/nexrad_khgx/20130619/'\n",
    "radr_lat = 29.468\n",
    "radr_lon = -95.075\n",
    "\n",
    "filess = []\n",
    "numfiles  = 0\n",
    "for root,dirs,files in walklevel(basepath,level=0):\n",
    "    for file in files:\n",
    "        if file.startswith(filepre):\n",
    "            filess.append(file)\n",
    "            numfiles += 1\n",
    "filess = sorted(filess)\n",
    "\n",
    "\n",
    "#..\n",
    "filenm = filess[0]\n",
    "nc = Dataset(basepath+filenm,'r')\n",
    "#..Let's throw in (dry bulb) temperature because why not\n",
    "xd = nc.variables['x_disp'][:]\n",
    "yd = nc.variables['y_disp'][:]\n",
    "nc.close()\n",
    "#..\n",
    "lat_grid,lon_grid = latlon_from_xy(xd,yd,radr_lat,radr_lon)\n",
    "#..\n",
    "for i in xrange(numfiles):\n",
    "    filenm = filess[i]\n",
    "    nc = Dataset(basepath+filenm,'r+')\n",
    "    lon_gr = nc.createVariable('lon_grid','f',dimensions=('ny', 'nx'))\n",
    "    lon_gr[:,:] = lon_grid\n",
    "    lon_gr.long_name = 'Longitude grid'\n",
    "    lon_gr.units = 'deg'\n",
    "    lon_gr.valid_max = 180.\n",
    "    lon_gr.valid_min = -180.\n",
    "    #..\n",
    "    lat_gr = nc.createVariable('lat_grid','f',dimensions=('ny', 'nx'))\n",
    "    lat_gr[:,:] = lat_grid\n",
    "    lat_gr.long_name = 'Latitude grid'\n",
    "    lat_gr.units = 'deg'\n",
    "    lat_gr.valid_max = 90.\n",
    "    lat_gr.valid_min = -90.\n",
    "    #..\n",
    "    nc.close()\n",
    "    "
   ]
  },
  {
   "cell_type": "code",
   "execution_count": 8,
   "metadata": {
    "collapsed": false
   },
   "outputs": [
    {
     "data": {
      "text/plain": [
       "<matplotlib.colorbar.Colorbar at 0x7fe1f1ff0710>"
      ]
     },
     "execution_count": 8,
     "metadata": {},
     "output_type": "execute_result"
    },
    {
     "data": {
      "image/png": "[encoded data removed]",
      "text/plain": [
       "<matplotlib.figure.Figure at 0x7fe1f5f01a50>"
      ]
     },
     "metadata": {},
     "output_type": "display_data"
    }
   ],
   "source": [
    "nc = Dataset('/home/mvanlier/mvanlier/nexrad_khgx/20130722/grid00_khgx_20130722_150046.nc')\n",
    "lng = nc.variables['lon_grid'][:,:]\n",
    "ltg = nc.variables['lat_grid'][:,:]\n",
    "nc.close()\n",
    "\n",
    "fig=plt.figure(figsize=(12,5))\n",
    "ax = fig.add_subplot(121)\n",
    "pg = ax.pcolormesh(lng)\n",
    "plt.colorbar(pg)\n",
    "ax = fig.add_subplot(122)\n",
    "pg =ax.pcolormesh(ltg)\n",
    "plt.colorbar(pg)"
   ]
  },
  {
   "cell_type": "code",
   "execution_count": null,
   "metadata": {
    "collapsed": true
   },
   "outputs": [],
   "source": []
  }
 ],
 "metadata": {
  "kernelspec": {
   "display_name": "Python 2",
   "language": "python",
   "name": "python2"
  },
  "language_info": {
   "codemirror_mode": {
    "name": "ipython",
    "version": 2
   },
   "file_extension": ".py",
   "mimetype": "text/x-python",
   "name": "python",
   "nbconvert_exporter": "python",
   "pygments_lexer": "ipython2",
   "version": "2.7.11"
  }
 },
 "nbformat": 4,
 "nbformat_minor": 0
}
